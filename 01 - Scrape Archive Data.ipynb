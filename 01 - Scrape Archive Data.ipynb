{
 "cells": [
  {
   "cell_type": "code",
   "execution_count": 1,
   "id": "d0dc21ef",
   "metadata": {},
   "outputs": [],
   "source": [
    "import os\n",
    "import requests\n",
    "import pandas\n",
    "\n",
    "import warnings\n",
    "\n",
    "warnings.filterwarnings('ignore')"
   ]
  },
  {
   "cell_type": "markdown",
   "id": "5c4c4f3e",
   "metadata": {},
   "source": [
    "### Docs\n",
    "\n",
    "See here:\n",
    "\n",
    "* https://environment.data.gov.uk/flood-monitoring/archive"
   ]
  },
  {
   "cell_type": "markdown",
   "id": "03e82ec1",
   "metadata": {},
   "source": [
    "### Construct request"
   ]
  },
  {
   "cell_type": "code",
   "execution_count": 2,
   "id": "a0f1bd7b",
   "metadata": {},
   "outputs": [],
   "source": [
    "def pull_date(date):\n",
    "    \"\"\"Pull data for the given date\"\"\"\n",
    "    return pandas.read_csv(f\"https://environment.data.gov.uk/flood-monitoring/archive/readings-full-{date:%Y-%m-%d}.csv\")"
   ]
  },
  {
   "cell_type": "markdown",
   "id": "a1e34d40-b5f3-4028-9056-5c7eb36a855c",
   "metadata": {},
   "source": [
    "### Find dates missing from master file\n",
    "\n",
    "Examine last date in master file and compare against T-1"
   ]
  },
  {
   "cell_type": "code",
   "execution_count": 3,
   "id": "a0b19fbd-d014-421f-b289-57df18c696f4",
   "metadata": {},
   "outputs": [],
   "source": [
    "df_master = (\n",
    "    pandas.read_csv(\"data/merged/Wanstead Rainfall Merged.csv\")\n",
    "    .assign(Timestamp=lambda x: pandas.to_datetime(x[\"Timestamp\"]))\n",
    ")"
   ]
  },
  {
   "cell_type": "code",
   "execution_count": 4,
   "id": "df77ca5d-89ea-4963-a2a6-b8f8ff311054",
   "metadata": {},
   "outputs": [
    {
     "data": {
      "text/html": [
       "<div>\n",
       "<style scoped>\n",
       "    .dataframe tbody tr th:only-of-type {\n",
       "        vertical-align: middle;\n",
       "    }\n",
       "\n",
       "    .dataframe tbody tr th {\n",
       "        vertical-align: top;\n",
       "    }\n",
       "\n",
       "    .dataframe thead th {\n",
       "        text-align: right;\n",
       "    }\n",
       "</style>\n",
       "<table border=\"1\" class=\"dataframe\">\n",
       "  <thead>\n",
       "    <tr style=\"text-align: right;\">\n",
       "      <th></th>\n",
       "      <th>Timestamp</th>\n",
       "      <th>Rainfall</th>\n",
       "    </tr>\n",
       "  </thead>\n",
       "  <tbody>\n",
       "    <tr>\n",
       "      <th>1129618</th>\n",
       "      <td>2023-08-20 23:15:00+00:00</td>\n",
       "      <td>0.0</td>\n",
       "    </tr>\n",
       "    <tr>\n",
       "      <th>1129619</th>\n",
       "      <td>2023-08-20 23:30:00+00:00</td>\n",
       "      <td>0.0</td>\n",
       "    </tr>\n",
       "    <tr>\n",
       "      <th>1129620</th>\n",
       "      <td>2023-08-20 23:30:00+00:00</td>\n",
       "      <td>0.0</td>\n",
       "    </tr>\n",
       "    <tr>\n",
       "      <th>1129621</th>\n",
       "      <td>2023-08-20 23:45:00+00:00</td>\n",
       "      <td>0.0</td>\n",
       "    </tr>\n",
       "    <tr>\n",
       "      <th>1129622</th>\n",
       "      <td>2023-08-20 23:45:00+00:00</td>\n",
       "      <td>0.0</td>\n",
       "    </tr>\n",
       "  </tbody>\n",
       "</table>\n",
       "</div>"
      ],
      "text/plain": [
       "                        Timestamp  Rainfall\n",
       "1129618 2023-08-20 23:15:00+00:00       0.0\n",
       "1129619 2023-08-20 23:30:00+00:00       0.0\n",
       "1129620 2023-08-20 23:30:00+00:00       0.0\n",
       "1129621 2023-08-20 23:45:00+00:00       0.0\n",
       "1129622 2023-08-20 23:45:00+00:00       0.0"
      ]
     },
     "execution_count": 4,
     "metadata": {},
     "output_type": "execute_result"
    }
   ],
   "source": [
    "df_master.tail()"
   ]
  },
  {
   "cell_type": "code",
   "execution_count": 5,
   "id": "f177a37b-3bc7-4557-8b0d-490d3d762832",
   "metadata": {},
   "outputs": [],
   "source": [
    "extracted_dates = df_master[\"Timestamp\"].dt.date.unique()"
   ]
  },
  {
   "cell_type": "code",
   "execution_count": 6,
   "id": "bc481610-7d21-4899-b9ce-0323e69d9325",
   "metadata": {},
   "outputs": [],
   "source": [
    "current_date = pandas.Timestamp.today()"
   ]
  },
  {
   "cell_type": "code",
   "execution_count": 7,
   "id": "6a1f4ca1-c2a3-458f-b563-2c5f102bd05b",
   "metadata": {},
   "outputs": [],
   "source": [
    "missing_dates = pandas.date_range(start=extracted_dates.max(), end=current_date - pandas.tseries.offsets.Day(1))"
   ]
  },
  {
   "cell_type": "code",
   "execution_count": 8,
   "id": "9c6711b4-1b4e-4a8b-a81c-ad4fe37d7d7a",
   "metadata": {},
   "outputs": [
    {
     "data": {
      "text/plain": [
       "2"
      ]
     },
     "execution_count": 8,
     "metadata": {},
     "output_type": "execute_result"
    }
   ],
   "source": [
    "len(missing_dates)"
   ]
  },
  {
   "cell_type": "markdown",
   "id": "90299224",
   "metadata": {},
   "source": [
    "Loop through historical dates, pull data, save to disk\n",
    "\n",
    "We filter the response to a single station using stationReference - these can be found here: https://environment.data.gov.uk/flood-monitoring/assets/demo/index.html\n",
    "\n",
    "Can take a while depending on number of dates requesting..."
   ]
  },
  {
   "cell_type": "code",
   "execution_count": 9,
   "id": "fb96421c-dd42-417f-bd70-b8b5a89ba4ab",
   "metadata": {},
   "outputs": [],
   "source": [
    "dir_output = \"data/raw\""
   ]
  },
  {
   "cell_type": "code",
   "execution_count": 10,
   "id": "a0b7c482-ce62-414f-a5ab-f4bd52d780c1",
   "metadata": {},
   "outputs": [
    {
     "name": "stdout",
     "output_type": "stream",
     "text": [
      "Failed for 2023-08-21\n"
     ]
    }
   ],
   "source": [
    "for date in missing_dates:\n",
    "\n",
    "    if date.day == 1:\n",
    "        print(date)\n",
    "    \n",
    "    try:\n",
    "        df = pull_date(date)\n",
    "    except:\n",
    "        print(f\"Failed for {date:%Y-%m-%d}\")\n",
    "\n",
    "    df_filtered = (\n",
    "        df\n",
    "        # Filter to Wanstead station\n",
    "        .loc[lambda x: x[\"stationReference\"] == \"239374TP\"]\n",
    "        # Rename and drop some columns\n",
    "        .rename(columns={\"dateTime\": \"Timestamp\", \"value\": \"Rainfall\"})\n",
    "        .filter(items=[\"Timestamp\", \"Rainfall\"], axis=1)\n",
    "    )\n",
    "\n",
    "    # Save to disk\n",
    "    df_filtered.to_csv(f\"{dir_output}/wanstead_rainfall_{date:%Y-%m-%d}.csv\", index=False)"
   ]
  },
  {
   "cell_type": "markdown",
   "id": "65ae9733",
   "metadata": {},
   "source": [
    "### Combine with master"
   ]
  },
  {
   "cell_type": "code",
   "execution_count": 11,
   "id": "337c3a36",
   "metadata": {},
   "outputs": [],
   "source": [
    "files = os.listdir(dir_output)"
   ]
  },
  {
   "cell_type": "code",
   "execution_count": 12,
   "id": "73644066-6174-4112-900d-0f8987a9e992",
   "metadata": {},
   "outputs": [],
   "source": [
    "df_new = (\n",
    "    pandas.concat([\n",
    "        pandas.read_csv(f\"{dir_output}/{fname}\")\n",
    "        for fname in files\n",
    "    ], axis=0)\n",
    "    .assign(Timestamp=lambda x: pandas.to_datetime(x[\"Timestamp\"]))\n",
    ")"
   ]
  },
  {
   "cell_type": "code",
   "execution_count": null,
   "id": "fdcc648a-1f4f-4293-a435-269e6a8f1893",
   "metadata": {},
   "outputs": [],
   "source": [
    "df_new.to_csv(\"data/Wanstead Rainfall 2022-23.csv\")"
   ]
  },
  {
   "cell_type": "code",
   "execution_count": 13,
   "id": "c9bc1645-01ea-4011-b84d-309beb614ea4",
   "metadata": {},
   "outputs": [
    {
     "data": {
      "text/html": [
       "<div>\n",
       "<style scoped>\n",
       "    .dataframe tbody tr th:only-of-type {\n",
       "        vertical-align: middle;\n",
       "    }\n",
       "\n",
       "    .dataframe tbody tr th {\n",
       "        vertical-align: top;\n",
       "    }\n",
       "\n",
       "    .dataframe thead th {\n",
       "        text-align: right;\n",
       "    }\n",
       "</style>\n",
       "<table border=\"1\" class=\"dataframe\">\n",
       "  <thead>\n",
       "    <tr style=\"text-align: right;\">\n",
       "      <th></th>\n",
       "      <th>Timestamp</th>\n",
       "      <th>Rainfall</th>\n",
       "    </tr>\n",
       "  </thead>\n",
       "  <tbody>\n",
       "    <tr>\n",
       "      <th>0</th>\n",
       "      <td>2022-08-25 00:00:00+00:00</td>\n",
       "      <td>0.0</td>\n",
       "    </tr>\n",
       "    <tr>\n",
       "      <th>1</th>\n",
       "      <td>2022-08-25 00:15:00+00:00</td>\n",
       "      <td>0.0</td>\n",
       "    </tr>\n",
       "    <tr>\n",
       "      <th>2</th>\n",
       "      <td>2022-08-25 00:30:00+00:00</td>\n",
       "      <td>0.0</td>\n",
       "    </tr>\n",
       "    <tr>\n",
       "      <th>3</th>\n",
       "      <td>2022-08-25 00:45:00+00:00</td>\n",
       "      <td>0.0</td>\n",
       "    </tr>\n",
       "    <tr>\n",
       "      <th>4</th>\n",
       "      <td>2022-08-25 01:00:00+00:00</td>\n",
       "      <td>0.0</td>\n",
       "    </tr>\n",
       "  </tbody>\n",
       "</table>\n",
       "</div>"
      ],
      "text/plain": [
       "                  Timestamp  Rainfall\n",
       "0 2022-08-25 00:00:00+00:00       0.0\n",
       "1 2022-08-25 00:15:00+00:00       0.0\n",
       "2 2022-08-25 00:30:00+00:00       0.0\n",
       "3 2022-08-25 00:45:00+00:00       0.0\n",
       "4 2022-08-25 01:00:00+00:00       0.0"
      ]
     },
     "execution_count": 13,
     "metadata": {},
     "output_type": "execute_result"
    }
   ],
   "source": [
    "df_new.head()"
   ]
  },
  {
   "cell_type": "markdown",
   "id": "27f69263-260c-450c-bac0-949038b9a989",
   "metadata": {},
   "source": [
    "Concatenate and write to file"
   ]
  },
  {
   "cell_type": "code",
   "execution_count": 14,
   "id": "bdefe475-a825-4c0f-80ba-f0ef6a1a7471",
   "metadata": {},
   "outputs": [],
   "source": [
    "df_all = (\n",
    "    pandas.concat([df_master, df_new], axis=0)\n",
    "    .sort_values(by=[\"Timestamp\"])\n",
    ")"
   ]
  },
  {
   "cell_type": "code",
   "execution_count": 15,
   "id": "c9700d59-cd3d-4999-91b9-55cb7088c209",
   "metadata": {},
   "outputs": [],
   "source": [
    "df_all.to_csv(\"data/merged/Wanstead Rainfall Merged.csv\", index=False)"
   ]
  },
  {
   "cell_type": "code",
   "execution_count": null,
   "id": "b77e2e78",
   "metadata": {},
   "outputs": [],
   "source": []
  },
  {
   "cell_type": "code",
   "execution_count": null,
   "id": "e3b3be58",
   "metadata": {},
   "outputs": [],
   "source": []
  },
  {
   "cell_type": "code",
   "execution_count": null,
   "id": "41e183a8",
   "metadata": {},
   "outputs": [],
   "source": []
  }
 ],
 "metadata": {
  "kernelspec": {
   "display_name": "Python 3 (ipykernel)",
   "language": "python",
   "name": "python3"
  },
  "language_info": {
   "codemirror_mode": {
    "name": "ipython",
    "version": 3
   },
   "file_extension": ".py",
   "mimetype": "text/x-python",
   "name": "python",
   "nbconvert_exporter": "python",
   "pygments_lexer": "ipython3",
   "version": "3.11.4"
  }
 },
 "nbformat": 4,
 "nbformat_minor": 5
}
