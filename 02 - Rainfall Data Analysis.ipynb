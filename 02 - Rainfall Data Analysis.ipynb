{
 "cells": [
  {
   "cell_type": "code",
   "execution_count": 1,
   "id": "10987741",
   "metadata": {},
   "outputs": [],
   "source": [
    "import copy\n",
    "import numpy\n",
    "import pandas\n",
    "\n",
    "import matplotlib.pyplot as plt\n",
    "import seaborn as sns"
   ]
  },
  {
   "cell_type": "markdown",
   "id": "c2761a44",
   "metadata": {},
   "source": [
    "### Load Data"
   ]
  },
  {
   "cell_type": "code",
   "execution_count": 2,
   "id": "7d9eb082",
   "metadata": {},
   "outputs": [],
   "source": [
    "df_pre_2021 = pandas.read_excel('data/Wansted 15min Rainfall Data 1991_2020.xlsx', skiprows=20)"
   ]
  },
  {
   "cell_type": "code",
   "execution_count": 3,
   "id": "7f264597",
   "metadata": {},
   "outputs": [
    {
     "data": {
      "text/html": [
       "<div>\n",
       "<style scoped>\n",
       "    .dataframe tbody tr th:only-of-type {\n",
       "        vertical-align: middle;\n",
       "    }\n",
       "\n",
       "    .dataframe tbody tr th {\n",
       "        vertical-align: top;\n",
       "    }\n",
       "\n",
       "    .dataframe thead th {\n",
       "        text-align: right;\n",
       "    }\n",
       "</style>\n",
       "<table border=\"1\" class=\"dataframe\">\n",
       "  <thead>\n",
       "    <tr style=\"text-align: right;\">\n",
       "      <th></th>\n",
       "      <th>Time stamp</th>\n",
       "      <th>Value[mm]</th>\n",
       "      <th>State of value</th>\n",
       "      <th>Interpolation</th>\n",
       "      <th>Tags</th>\n",
       "      <th>Comments</th>\n",
       "    </tr>\n",
       "  </thead>\n",
       "  <tbody>\n",
       "    <tr>\n",
       "      <th>0</th>\n",
       "      <td>1991-06-01 09:15:00</td>\n",
       "      <td>0</td>\n",
       "      <td>G</td>\n",
       "      <td>101</td>\n",
       "      <td>NaN</td>\n",
       "      <td>NaN</td>\n",
       "    </tr>\n",
       "    <tr>\n",
       "      <th>1</th>\n",
       "      <td>1991-06-01 09:30:00</td>\n",
       "      <td>0</td>\n",
       "      <td>G</td>\n",
       "      <td>101</td>\n",
       "      <td>NaN</td>\n",
       "      <td>NaN</td>\n",
       "    </tr>\n",
       "    <tr>\n",
       "      <th>2</th>\n",
       "      <td>1991-06-01 09:45:00</td>\n",
       "      <td>0</td>\n",
       "      <td>G</td>\n",
       "      <td>101</td>\n",
       "      <td>NaN</td>\n",
       "      <td>NaN</td>\n",
       "    </tr>\n",
       "    <tr>\n",
       "      <th>3</th>\n",
       "      <td>1991-06-01 10:00:00</td>\n",
       "      <td>0</td>\n",
       "      <td>G</td>\n",
       "      <td>101</td>\n",
       "      <td>NaN</td>\n",
       "      <td>NaN</td>\n",
       "    </tr>\n",
       "    <tr>\n",
       "      <th>4</th>\n",
       "      <td>1991-06-01 10:15:00</td>\n",
       "      <td>0</td>\n",
       "      <td>G</td>\n",
       "      <td>101</td>\n",
       "      <td>NaN</td>\n",
       "      <td>NaN</td>\n",
       "    </tr>\n",
       "  </tbody>\n",
       "</table>\n",
       "</div>"
      ],
      "text/plain": [
       "           Time stamp Value[mm] State of value  Interpolation Tags Comments\n",
       "0 1991-06-01 09:15:00         0              G            101  NaN      NaN\n",
       "1 1991-06-01 09:30:00         0              G            101  NaN      NaN\n",
       "2 1991-06-01 09:45:00         0              G            101  NaN      NaN\n",
       "3 1991-06-01 10:00:00         0              G            101  NaN      NaN\n",
       "4 1991-06-01 10:15:00         0              G            101  NaN      NaN"
      ]
     },
     "execution_count": 3,
     "metadata": {},
     "output_type": "execute_result"
    }
   ],
   "source": [
    "df_pre_2021.head()"
   ]
  },
  {
   "cell_type": "code",
   "execution_count": 4,
   "id": "5a6c0670",
   "metadata": {},
   "outputs": [],
   "source": [
    "df_2021 = pandas.read_excel('data/Wansted 15min Rainfall Data 2021.xlsx', skiprows=20)"
   ]
  },
  {
   "cell_type": "code",
   "execution_count": 5,
   "id": "5b28c458",
   "metadata": {},
   "outputs": [
    {
     "data": {
      "text/html": [
       "<div>\n",
       "<style scoped>\n",
       "    .dataframe tbody tr th:only-of-type {\n",
       "        vertical-align: middle;\n",
       "    }\n",
       "\n",
       "    .dataframe tbody tr th {\n",
       "        vertical-align: top;\n",
       "    }\n",
       "\n",
       "    .dataframe thead th {\n",
       "        text-align: right;\n",
       "    }\n",
       "</style>\n",
       "<table border=\"1\" class=\"dataframe\">\n",
       "  <thead>\n",
       "    <tr style=\"text-align: right;\">\n",
       "      <th></th>\n",
       "      <th>Time stamp</th>\n",
       "      <th>Value[mm]</th>\n",
       "      <th>State of value</th>\n",
       "      <th>Interpolation</th>\n",
       "      <th>Tags</th>\n",
       "      <th>Comments</th>\n",
       "    </tr>\n",
       "  </thead>\n",
       "  <tbody>\n",
       "    <tr>\n",
       "      <th>29371</th>\n",
       "      <td>2021-11-02 22:45:00</td>\n",
       "      <td>0</td>\n",
       "      <td>U</td>\n",
       "      <td>101</td>\n",
       "      <td>NaN</td>\n",
       "      <td>NaN</td>\n",
       "    </tr>\n",
       "    <tr>\n",
       "      <th>29372</th>\n",
       "      <td>2021-11-02 23:00:00</td>\n",
       "      <td>0</td>\n",
       "      <td>U</td>\n",
       "      <td>101</td>\n",
       "      <td>NaN</td>\n",
       "      <td>NaN</td>\n",
       "    </tr>\n",
       "    <tr>\n",
       "      <th>29373</th>\n",
       "      <td>2021-11-02 23:15:00</td>\n",
       "      <td>0</td>\n",
       "      <td>U</td>\n",
       "      <td>101</td>\n",
       "      <td>NaN</td>\n",
       "      <td>NaN</td>\n",
       "    </tr>\n",
       "    <tr>\n",
       "      <th>29374</th>\n",
       "      <td>2021-11-02 23:30:00</td>\n",
       "      <td>0</td>\n",
       "      <td>U</td>\n",
       "      <td>101</td>\n",
       "      <td>NaN</td>\n",
       "      <td>NaN</td>\n",
       "    </tr>\n",
       "    <tr>\n",
       "      <th>29375</th>\n",
       "      <td>2021-11-02 23:45:00</td>\n",
       "      <td>0</td>\n",
       "      <td>U</td>\n",
       "      <td>101</td>\n",
       "      <td>NaN</td>\n",
       "      <td>NaN</td>\n",
       "    </tr>\n",
       "  </tbody>\n",
       "</table>\n",
       "</div>"
      ],
      "text/plain": [
       "               Time stamp Value[mm] State of value  Interpolation  Tags  \\\n",
       "29371 2021-11-02 22:45:00         0              U            101   NaN   \n",
       "29372 2021-11-02 23:00:00         0              U            101   NaN   \n",
       "29373 2021-11-02 23:15:00         0              U            101   NaN   \n",
       "29374 2021-11-02 23:30:00         0              U            101   NaN   \n",
       "29375 2021-11-02 23:45:00         0              U            101   NaN   \n",
       "\n",
       "      Comments  \n",
       "29371      NaN  \n",
       "29372      NaN  \n",
       "29373      NaN  \n",
       "29374      NaN  \n",
       "29375      NaN  "
      ]
     },
     "execution_count": 5,
     "metadata": {},
     "output_type": "execute_result"
    }
   ],
   "source": [
    "df_2021.tail()"
   ]
  },
  {
   "cell_type": "code",
   "execution_count": 6,
   "id": "791a8764",
   "metadata": {},
   "outputs": [],
   "source": [
    "df_post_2021 = pandas.read_csv('data/Wanstead Rainfall 2021.csv')"
   ]
  },
  {
   "cell_type": "code",
   "execution_count": 7,
   "id": "185dc1c4",
   "metadata": {},
   "outputs": [
    {
     "data": {
      "text/html": [
       "<div>\n",
       "<style scoped>\n",
       "    .dataframe tbody tr th:only-of-type {\n",
       "        vertical-align: middle;\n",
       "    }\n",
       "\n",
       "    .dataframe tbody tr th {\n",
       "        vertical-align: top;\n",
       "    }\n",
       "\n",
       "    .dataframe thead th {\n",
       "        text-align: right;\n",
       "    }\n",
       "</style>\n",
       "<table border=\"1\" class=\"dataframe\">\n",
       "  <thead>\n",
       "    <tr style=\"text-align: right;\">\n",
       "      <th></th>\n",
       "      <th>Unnamed: 0</th>\n",
       "      <th>Time stamp</th>\n",
       "      <th>Value[mm]</th>\n",
       "    </tr>\n",
       "  </thead>\n",
       "  <tbody>\n",
       "    <tr>\n",
       "      <th>0</th>\n",
       "      <td>3541</td>\n",
       "      <td>2021-11-03T19:45:00Z</td>\n",
       "      <td>0.0</td>\n",
       "    </tr>\n",
       "    <tr>\n",
       "      <th>1</th>\n",
       "      <td>6928</td>\n",
       "      <td>2021-11-03T00:00:00Z</td>\n",
       "      <td>0.0</td>\n",
       "    </tr>\n",
       "    <tr>\n",
       "      <th>2</th>\n",
       "      <td>9161</td>\n",
       "      <td>2021-11-03T00:15:00Z</td>\n",
       "      <td>0.0</td>\n",
       "    </tr>\n",
       "    <tr>\n",
       "      <th>3</th>\n",
       "      <td>11509</td>\n",
       "      <td>2021-11-03T00:30:00Z</td>\n",
       "      <td>0.0</td>\n",
       "    </tr>\n",
       "    <tr>\n",
       "      <th>4</th>\n",
       "      <td>13951</td>\n",
       "      <td>2021-11-03T00:45:00Z</td>\n",
       "      <td>0.0</td>\n",
       "    </tr>\n",
       "    <tr>\n",
       "      <th>...</th>\n",
       "      <td>...</td>\n",
       "      <td>...</td>\n",
       "      <td>...</td>\n",
       "    </tr>\n",
       "    <tr>\n",
       "      <th>28366</th>\n",
       "      <td>381828</td>\n",
       "      <td>2022-08-25T22:45:00Z</td>\n",
       "      <td>0.0</td>\n",
       "    </tr>\n",
       "    <tr>\n",
       "      <th>28367</th>\n",
       "      <td>383702</td>\n",
       "      <td>2022-08-25T23:00:00Z</td>\n",
       "      <td>0.0</td>\n",
       "    </tr>\n",
       "    <tr>\n",
       "      <th>28368</th>\n",
       "      <td>389351</td>\n",
       "      <td>2022-08-25T23:15:00Z</td>\n",
       "      <td>0.0</td>\n",
       "    </tr>\n",
       "    <tr>\n",
       "      <th>28369</th>\n",
       "      <td>392539</td>\n",
       "      <td>2022-08-25T23:30:00Z</td>\n",
       "      <td>0.0</td>\n",
       "    </tr>\n",
       "    <tr>\n",
       "      <th>28370</th>\n",
       "      <td>395574</td>\n",
       "      <td>2022-08-25T23:45:00Z</td>\n",
       "      <td>0.0</td>\n",
       "    </tr>\n",
       "  </tbody>\n",
       "</table>\n",
       "<p>28371 rows × 3 columns</p>\n",
       "</div>"
      ],
      "text/plain": [
       "       Unnamed: 0            Time stamp  Value[mm]\n",
       "0            3541  2021-11-03T19:45:00Z        0.0\n",
       "1            6928  2021-11-03T00:00:00Z        0.0\n",
       "2            9161  2021-11-03T00:15:00Z        0.0\n",
       "3           11509  2021-11-03T00:30:00Z        0.0\n",
       "4           13951  2021-11-03T00:45:00Z        0.0\n",
       "...           ...                   ...        ...\n",
       "28366      381828  2022-08-25T22:45:00Z        0.0\n",
       "28367      383702  2022-08-25T23:00:00Z        0.0\n",
       "28368      389351  2022-08-25T23:15:00Z        0.0\n",
       "28369      392539  2022-08-25T23:30:00Z        0.0\n",
       "28370      395574  2022-08-25T23:45:00Z        0.0\n",
       "\n",
       "[28371 rows x 3 columns]"
      ]
     },
     "execution_count": 7,
     "metadata": {},
     "output_type": "execute_result"
    }
   ],
   "source": [
    "df_post_2021"
   ]
  },
  {
   "cell_type": "markdown",
   "id": "a8bc2ce8",
   "metadata": {},
   "source": [
    "Merge data from different time periods"
   ]
  },
  {
   "cell_type": "code",
   "execution_count": 8,
   "id": "30889403",
   "metadata": {},
   "outputs": [],
   "source": [
    "df_merged = (\n",
    "    # Concatenate dataframes\n",
    "    pandas.concat([df_pre_2021, df_2021, df_post_2021], axis=0)\n",
    "    .rename(columns={'Time stamp': 'Timestamp', 'Value[mm]': 'Rainfall'})\n",
    "    .assign(\n",
    "        Timestamp=lambda x: pandas.to_datetime(x['Timestamp']),\n",
    "        # Replace --- with zero\n",
    "        Rainfall=lambda x: x['Rainfall'].replace({'---': 0}).astype(float)\n",
    "    )\n",
    "    .filter(items=['Timestamp', 'Rainfall'])\n",
    ")"
   ]
  },
  {
   "cell_type": "code",
   "execution_count": 9,
   "id": "d31d0958",
   "metadata": {},
   "outputs": [
    {
     "data": {
      "text/html": [
       "<div>\n",
       "<style scoped>\n",
       "    .dataframe tbody tr th:only-of-type {\n",
       "        vertical-align: middle;\n",
       "    }\n",
       "\n",
       "    .dataframe tbody tr th {\n",
       "        vertical-align: top;\n",
       "    }\n",
       "\n",
       "    .dataframe thead th {\n",
       "        text-align: right;\n",
       "    }\n",
       "</style>\n",
       "<table border=\"1\" class=\"dataframe\">\n",
       "  <thead>\n",
       "    <tr style=\"text-align: right;\">\n",
       "      <th></th>\n",
       "      <th>Timestamp</th>\n",
       "      <th>Rainfall</th>\n",
       "    </tr>\n",
       "  </thead>\n",
       "  <tbody>\n",
       "    <tr>\n",
       "      <th>0</th>\n",
       "      <td>1991-06-01 09:15:00+00:00</td>\n",
       "      <td>0.0</td>\n",
       "    </tr>\n",
       "    <tr>\n",
       "      <th>1</th>\n",
       "      <td>1991-06-01 09:30:00+00:00</td>\n",
       "      <td>0.0</td>\n",
       "    </tr>\n",
       "    <tr>\n",
       "      <th>2</th>\n",
       "      <td>1991-06-01 09:45:00+00:00</td>\n",
       "      <td>0.0</td>\n",
       "    </tr>\n",
       "    <tr>\n",
       "      <th>3</th>\n",
       "      <td>1991-06-01 10:00:00+00:00</td>\n",
       "      <td>0.0</td>\n",
       "    </tr>\n",
       "    <tr>\n",
       "      <th>4</th>\n",
       "      <td>1991-06-01 10:15:00+00:00</td>\n",
       "      <td>0.0</td>\n",
       "    </tr>\n",
       "  </tbody>\n",
       "</table>\n",
       "</div>"
      ],
      "text/plain": [
       "                  Timestamp  Rainfall\n",
       "0 1991-06-01 09:15:00+00:00       0.0\n",
       "1 1991-06-01 09:30:00+00:00       0.0\n",
       "2 1991-06-01 09:45:00+00:00       0.0\n",
       "3 1991-06-01 10:00:00+00:00       0.0\n",
       "4 1991-06-01 10:15:00+00:00       0.0"
      ]
     },
     "execution_count": 9,
     "metadata": {},
     "output_type": "execute_result"
    }
   ],
   "source": [
    "df_merged.head()"
   ]
  },
  {
   "cell_type": "markdown",
   "id": "80e37512",
   "metadata": {},
   "source": [
    "### Daily Rainfall\n",
    "\n",
    "Aggregate to daily frequency"
   ]
  },
  {
   "cell_type": "code",
   "execution_count": 10,
   "id": "ff26ff69",
   "metadata": {},
   "outputs": [],
   "source": [
    "df_daily = (\n",
    "    df_merged\n",
    "    .groupby(by=pandas.Grouper(key='Timestamp', freq='D'))\n",
    "    .agg({'Rainfall': 'sum'})\n",
    ")"
   ]
  },
  {
   "cell_type": "markdown",
   "id": "73c0d825",
   "metadata": {},
   "source": [
    "#### Time-series of daily rainfall"
   ]
  },
  {
   "cell_type": "code",
   "execution_count": 11,
   "id": "75c8e21e",
   "metadata": {},
   "outputs": [
    {
     "data": {
      "image/png": "[encoded data removed]",
      "text/plain": [
       "<Figure size 1000x400 with 1 Axes>"
      ]
     },
     "metadata": {},
     "output_type": "display_data"
    }
   ],
   "source": [
    "f, ax = plt.subplots(1, 1, figsize=(10, 4))\n",
    "\n",
    "ax.plot(df_daily.index, df_daily['Rainfall'])\n",
    "\n",
    "ax.set_ylabel('Daily Rainfaill (mm)')\n",
    "\n",
    "plt.tight_layout()"
   ]
  },
  {
   "cell_type": "markdown",
   "id": "5c2477e0",
   "metadata": {},
   "source": [
    "There is a gap due to the site being offline whilst site works were completed (from FOI request)."
   ]
  },
  {
   "cell_type": "markdown",
   "id": "c8708f57",
   "metadata": {},
   "source": [
    "#### Days with most rainfall"
   ]
  },
  {
   "cell_type": "code",
   "execution_count": 12,
   "id": "fd6764ba",
   "metadata": {},
   "outputs": [
    {
     "data": {
      "text/html": [
       "<div>\n",
       "<style scoped>\n",
       "    .dataframe tbody tr th:only-of-type {\n",
       "        vertical-align: middle;\n",
       "    }\n",
       "\n",
       "    .dataframe tbody tr th {\n",
       "        vertical-align: top;\n",
       "    }\n",
       "\n",
       "    .dataframe thead th {\n",
       "        text-align: right;\n",
       "    }\n",
       "</style>\n",
       "<table border=\"1\" class=\"dataframe\">\n",
       "  <thead>\n",
       "    <tr style=\"text-align: right;\">\n",
       "      <th></th>\n",
       "      <th>Rainfall</th>\n",
       "    </tr>\n",
       "    <tr>\n",
       "      <th>Timestamp</th>\n",
       "      <th></th>\n",
       "    </tr>\n",
       "  </thead>\n",
       "  <tbody>\n",
       "    <tr>\n",
       "      <th>2021-07-25 00:00:00+00:00</th>\n",
       "      <td>54.0</td>\n",
       "    </tr>\n",
       "    <tr>\n",
       "      <th>2016-06-23 00:00:00+00:00</th>\n",
       "      <td>53.0</td>\n",
       "    </tr>\n",
       "    <tr>\n",
       "      <th>2000-09-15 00:00:00+00:00</th>\n",
       "      <td>40.0</td>\n",
       "    </tr>\n",
       "    <tr>\n",
       "      <th>2005-09-10 00:00:00+00:00</th>\n",
       "      <td>36.0</td>\n",
       "    </tr>\n",
       "    <tr>\n",
       "      <th>2012-07-08 00:00:00+00:00</th>\n",
       "      <td>36.0</td>\n",
       "    </tr>\n",
       "    <tr>\n",
       "      <th>2002-09-09 00:00:00+00:00</th>\n",
       "      <td>34.2</td>\n",
       "    </tr>\n",
       "    <tr>\n",
       "      <th>1992-10-20 00:00:00+00:00</th>\n",
       "      <td>34.0</td>\n",
       "    </tr>\n",
       "    <tr>\n",
       "      <th>1992-05-29 00:00:00+00:00</th>\n",
       "      <td>34.0</td>\n",
       "    </tr>\n",
       "    <tr>\n",
       "      <th>1993-10-02 00:00:00+00:00</th>\n",
       "      <td>33.6</td>\n",
       "    </tr>\n",
       "    <tr>\n",
       "      <th>1998-05-26 00:00:00+00:00</th>\n",
       "      <td>33.0</td>\n",
       "    </tr>\n",
       "  </tbody>\n",
       "</table>\n",
       "</div>"
      ],
      "text/plain": [
       "                           Rainfall\n",
       "Timestamp                          \n",
       "2021-07-25 00:00:00+00:00      54.0\n",
       "2016-06-23 00:00:00+00:00      53.0\n",
       "2000-09-15 00:00:00+00:00      40.0\n",
       "2005-09-10 00:00:00+00:00      36.0\n",
       "2012-07-08 00:00:00+00:00      36.0\n",
       "2002-09-09 00:00:00+00:00      34.2\n",
       "1992-10-20 00:00:00+00:00      34.0\n",
       "1992-05-29 00:00:00+00:00      34.0\n",
       "1993-10-02 00:00:00+00:00      33.6\n",
       "1998-05-26 00:00:00+00:00      33.0"
      ]
     },
     "execution_count": 12,
     "metadata": {},
     "output_type": "execute_result"
    }
   ],
   "source": [
    "(\n",
    "    df_daily\n",
    "    .sort_values(by='Rainfall', ascending=False)\n",
    "    .head(10)\n",
    ")"
   ]
  },
  {
   "cell_type": "markdown",
   "id": "f893acfd",
   "metadata": {},
   "source": [
    "#### Number of occurences above a certain threshold"
   ]
  },
  {
   "cell_type": "code",
   "execution_count": 13,
   "id": "4bb1f222",
   "metadata": {},
   "outputs": [
    {
     "data": {
      "text/html": [
       "<div>\n",
       "<style scoped>\n",
       "    .dataframe tbody tr th:only-of-type {\n",
       "        vertical-align: middle;\n",
       "    }\n",
       "\n",
       "    .dataframe tbody tr th {\n",
       "        vertical-align: top;\n",
       "    }\n",
       "\n",
       "    .dataframe thead th {\n",
       "        text-align: right;\n",
       "    }\n",
       "</style>\n",
       "<table border=\"1\" class=\"dataframe\">\n",
       "  <thead>\n",
       "    <tr style=\"text-align: right;\">\n",
       "      <th></th>\n",
       "      <th>NEvents</th>\n",
       "    </tr>\n",
       "    <tr>\n",
       "      <th>Threshold</th>\n",
       "      <th></th>\n",
       "    </tr>\n",
       "  </thead>\n",
       "  <tbody>\n",
       "    <tr>\n",
       "      <th>15</th>\n",
       "      <td>149</td>\n",
       "    </tr>\n",
       "    <tr>\n",
       "      <th>20</th>\n",
       "      <td>68</td>\n",
       "    </tr>\n",
       "    <tr>\n",
       "      <th>25</th>\n",
       "      <td>31</td>\n",
       "    </tr>\n",
       "    <tr>\n",
       "      <th>30</th>\n",
       "      <td>17</td>\n",
       "    </tr>\n",
       "    <tr>\n",
       "      <th>35</th>\n",
       "      <td>5</td>\n",
       "    </tr>\n",
       "    <tr>\n",
       "      <th>40</th>\n",
       "      <td>2</td>\n",
       "    </tr>\n",
       "    <tr>\n",
       "      <th>45</th>\n",
       "      <td>2</td>\n",
       "    </tr>\n",
       "    <tr>\n",
       "      <th>50</th>\n",
       "      <td>2</td>\n",
       "    </tr>\n",
       "  </tbody>\n",
       "</table>\n",
       "</div>"
      ],
      "text/plain": [
       "           NEvents\n",
       "Threshold         \n",
       "15             149\n",
       "20              68\n",
       "25              31\n",
       "30              17\n",
       "35               5\n",
       "40               2\n",
       "45               2\n",
       "50               2"
      ]
     },
     "execution_count": 13,
     "metadata": {},
     "output_type": "execute_result"
    }
   ],
   "source": [
    "pandas.DataFrame(\n",
    "    {'Threshold': threshold, 'NEvents': len(df_daily.loc[lambda x: x['Rainfall'] > threshold])}\n",
    "    for threshold in [15, 20, 25, 30, 35, 40, 45, 50]\n",
    ").set_index(keys=['Threshold'])"
   ]
  },
  {
   "cell_type": "markdown",
   "id": "9587a9c0",
   "metadata": {},
   "source": [
    "There were 15 days where there was more than 30mm of rainfall"
   ]
  },
  {
   "cell_type": "markdown",
   "id": "4488845f",
   "metadata": {},
   "source": [
    "#### Distribution of events\n",
    "\n",
    "Approx. 30 year period, let's consider the probability of rainfall exceeding a value $X$, i.e., survival function but instead of considering survival past a given duration we consider rainfall greater than a certain amount"
   ]
  },
  {
   "cell_type": "markdown",
   "id": "6a40e8b6",
   "metadata": {},
   "source": [
    "#### Fit survival function"
   ]
  },
  {
   "cell_type": "code",
   "execution_count": 14,
   "id": "eb64c8e3",
   "metadata": {},
   "outputs": [],
   "source": [
    "from lifelines import KaplanMeierFitter, ExponentialFitter, NelsonAalenFitter"
   ]
  },
  {
   "cell_type": "code",
   "execution_count": 15,
   "id": "079791bc",
   "metadata": {},
   "outputs": [],
   "source": [
    "# No events are censored\n",
    "df_daily['Observed'] = 1\n",
    "\n",
    "obs = df_daily['Rainfall'].values\n",
    "event = df_daily['Observed'].values"
   ]
  },
  {
   "cell_type": "code",
   "execution_count": 16,
   "id": "9656d645",
   "metadata": {},
   "outputs": [],
   "source": [
    "kmf = KaplanMeierFitter().fit(obs, event)"
   ]
  },
  {
   "cell_type": "code",
   "execution_count": 17,
   "id": "6d5f9969",
   "metadata": {},
   "outputs": [
    {
     "data": {
      "text/plain": [
       "Text(0.5, 0, 'Daily Rainfall (mm)')"
      ]
     },
     "execution_count": 17,
     "metadata": {},
     "output_type": "execute_result"
    },
    {
     "data": {
      "image/png": "[encoded data removed]",
      "text/plain": [
       "<Figure size 600x400 with 1 Axes>"
      ]
     },
     "metadata": {},
     "output_type": "display_data"
    }
   ],
   "source": [
    "f, ax = plt.subplots(1, 1, figsize=(6, 4))\n",
    "\n",
    "kmf.plot_survival_function(ax=ax)\n",
    "\n",
    "ax.set_ylabel('Probability of X >= x')\n",
    "ax.set_xlabel('Daily Rainfall (mm)')"
   ]
  },
  {
   "cell_type": "markdown",
   "id": "cafed217",
   "metadata": {},
   "source": [
    "Invert probability to frequency of event"
   ]
  },
  {
   "cell_type": "code",
   "execution_count": 18,
   "id": "12146c0b",
   "metadata": {},
   "outputs": [
    {
     "data": {
      "text/html": [
       "<div>\n",
       "<style scoped>\n",
       "    .dataframe tbody tr th:only-of-type {\n",
       "        vertical-align: middle;\n",
       "    }\n",
       "\n",
       "    .dataframe tbody tr th {\n",
       "        vertical-align: top;\n",
       "    }\n",
       "\n",
       "    .dataframe thead th {\n",
       "        text-align: right;\n",
       "    }\n",
       "</style>\n",
       "<table border=\"1\" class=\"dataframe\">\n",
       "  <thead>\n",
       "    <tr style=\"text-align: right;\">\n",
       "      <th></th>\n",
       "      <th>KM_estimate</th>\n",
       "    </tr>\n",
       "    <tr>\n",
       "      <th>timeline</th>\n",
       "      <th></th>\n",
       "    </tr>\n",
       "  </thead>\n",
       "  <tbody>\n",
       "    <tr>\n",
       "      <th>0.0</th>\n",
       "      <td>0.423350</td>\n",
       "    </tr>\n",
       "    <tr>\n",
       "      <th>0.2</th>\n",
       "      <td>0.349636</td>\n",
       "    </tr>\n",
       "    <tr>\n",
       "      <th>0.4</th>\n",
       "      <td>0.316943</td>\n",
       "    </tr>\n",
       "    <tr>\n",
       "      <th>0.6</th>\n",
       "      <td>0.314664</td>\n",
       "    </tr>\n",
       "    <tr>\n",
       "      <th>0.6</th>\n",
       "      <td>0.290297</td>\n",
       "    </tr>\n",
       "    <tr>\n",
       "      <th>...</th>\n",
       "      <td>...</td>\n",
       "    </tr>\n",
       "    <tr>\n",
       "      <th>34.2</th>\n",
       "      <td>0.000438</td>\n",
       "    </tr>\n",
       "    <tr>\n",
       "      <th>36.0</th>\n",
       "      <td>0.000263</td>\n",
       "    </tr>\n",
       "    <tr>\n",
       "      <th>40.0</th>\n",
       "      <td>0.000175</td>\n",
       "    </tr>\n",
       "    <tr>\n",
       "      <th>53.0</th>\n",
       "      <td>0.000088</td>\n",
       "    </tr>\n",
       "    <tr>\n",
       "      <th>54.0</th>\n",
       "      <td>0.000000</td>\n",
       "    </tr>\n",
       "  </tbody>\n",
       "</table>\n",
       "<p>203 rows × 1 columns</p>\n",
       "</div>"
      ],
      "text/plain": [
       "          KM_estimate\n",
       "timeline             \n",
       "0.0          0.423350\n",
       "0.2          0.349636\n",
       "0.4          0.316943\n",
       "0.6          0.314664\n",
       "0.6          0.290297\n",
       "...               ...\n",
       "34.2         0.000438\n",
       "36.0         0.000263\n",
       "40.0         0.000175\n",
       "53.0         0.000088\n",
       "54.0         0.000000\n",
       "\n",
       "[203 rows x 1 columns]"
      ]
     },
     "execution_count": 18,
     "metadata": {},
     "output_type": "execute_result"
    }
   ],
   "source": [
    "kmf.survival_function_"
   ]
  },
  {
   "cell_type": "code",
   "execution_count": 19,
   "id": "52954d4c",
   "metadata": {},
   "outputs": [
    {
     "data": {
      "text/plain": [
       "Text(0.5, 0, 'Daily Rainfall (mm)')"
      ]
     },
     "execution_count": 19,
     "metadata": {},
     "output_type": "execute_result"
    },
    {
     "data": {
      "image/png": "[encoded data removed]",
      "text/plain": [
       "<Figure size 600x400 with 1 Axes>"
      ]
     },
     "metadata": {},
     "output_type": "display_data"
    }
   ],
   "source": [
    "f, ax = plt.subplots(1, 1, figsize=(6, 4))\n",
    "\n",
    "surv_freq = (\n",
    "    kmf.survival_function_\n",
    "    .reset_index()\n",
    "    .assign(\n",
    "        test=1,\n",
    "        freq=lambda x: (x['KM_estimate'] ** (-1)) / 365\n",
    "    )\n",
    "    .replace({numpy.inf: numpy.nan})\n",
    "    .dropna()\n",
    ")\n",
    "\n",
    "surv_freq.plot(\n",
    "    ax=ax,\n",
    "    kind='scatter',\n",
    "    x='timeline',\n",
    "    y='freq',\n",
    "    s=1.5)\n",
    "\n",
    "ax.set_ylabel('Annualised Frequency')\n",
    "ax.set_xlabel('Daily Rainfall (mm)')"
   ]
  },
  {
   "cell_type": "code",
   "execution_count": 20,
   "id": "dd1cfb67",
   "metadata": {},
   "outputs": [
    {
     "data": {
      "text/html": [
       "<div>\n",
       "<style scoped>\n",
       "    .dataframe tbody tr th:only-of-type {\n",
       "        vertical-align: middle;\n",
       "    }\n",
       "\n",
       "    .dataframe tbody tr th {\n",
       "        vertical-align: top;\n",
       "    }\n",
       "\n",
       "    .dataframe thead th {\n",
       "        text-align: right;\n",
       "    }\n",
       "</style>\n",
       "<table border=\"1\" class=\"dataframe\">\n",
       "  <thead>\n",
       "    <tr style=\"text-align: right;\">\n",
       "      <th></th>\n",
       "      <th>freq</th>\n",
       "    </tr>\n",
       "    <tr>\n",
       "      <th>rainfall</th>\n",
       "      <th></th>\n",
       "    </tr>\n",
       "  </thead>\n",
       "  <tbody>\n",
       "    <tr>\n",
       "      <th>27.6</th>\n",
       "      <td>1.420797</td>\n",
       "    </tr>\n",
       "    <tr>\n",
       "      <th>28.2</th>\n",
       "      <td>1.488454</td>\n",
       "    </tr>\n",
       "    <tr>\n",
       "      <th>28.4</th>\n",
       "      <td>1.562877</td>\n",
       "    </tr>\n",
       "    <tr>\n",
       "      <th>28.4</th>\n",
       "      <td>1.645133</td>\n",
       "    </tr>\n",
       "    <tr>\n",
       "      <th>28.6</th>\n",
       "      <td>1.736530</td>\n",
       "    </tr>\n",
       "    <tr>\n",
       "      <th>29.8</th>\n",
       "      <td>1.838678</td>\n",
       "    </tr>\n",
       "    <tr>\n",
       "      <th>30.2</th>\n",
       "      <td>1.953596</td>\n",
       "    </tr>\n",
       "    <tr>\n",
       "      <th>30.8</th>\n",
       "      <td>2.083836</td>\n",
       "    </tr>\n",
       "    <tr>\n",
       "      <th>31.0</th>\n",
       "      <td>2.232681</td>\n",
       "    </tr>\n",
       "    <tr>\n",
       "      <th>31.2</th>\n",
       "      <td>2.404426</td>\n",
       "    </tr>\n",
       "    <tr>\n",
       "      <th>31.4</th>\n",
       "      <td>2.604795</td>\n",
       "    </tr>\n",
       "    <tr>\n",
       "      <th>32.4</th>\n",
       "      <td>2.841594</td>\n",
       "    </tr>\n",
       "    <tr>\n",
       "      <th>32.6</th>\n",
       "      <td>3.125753</td>\n",
       "    </tr>\n",
       "    <tr>\n",
       "      <th>33.0</th>\n",
       "      <td>3.473059</td>\n",
       "    </tr>\n",
       "    <tr>\n",
       "      <th>33.6</th>\n",
       "      <td>3.907192</td>\n",
       "    </tr>\n",
       "    <tr>\n",
       "      <th>34.0</th>\n",
       "      <td>5.209589</td>\n",
       "    </tr>\n",
       "    <tr>\n",
       "      <th>34.2</th>\n",
       "      <td>6.251507</td>\n",
       "    </tr>\n",
       "    <tr>\n",
       "      <th>36.0</th>\n",
       "      <td>10.419178</td>\n",
       "    </tr>\n",
       "    <tr>\n",
       "      <th>40.0</th>\n",
       "      <td>15.628767</td>\n",
       "    </tr>\n",
       "    <tr>\n",
       "      <th>53.0</th>\n",
       "      <td>31.257534</td>\n",
       "    </tr>\n",
       "  </tbody>\n",
       "</table>\n",
       "</div>"
      ],
      "text/plain": [
       "               freq\n",
       "rainfall           \n",
       "27.6       1.420797\n",
       "28.2       1.488454\n",
       "28.4       1.562877\n",
       "28.4       1.645133\n",
       "28.6       1.736530\n",
       "29.8       1.838678\n",
       "30.2       1.953596\n",
       "30.8       2.083836\n",
       "31.0       2.232681\n",
       "31.2       2.404426\n",
       "31.4       2.604795\n",
       "32.4       2.841594\n",
       "32.6       3.125753\n",
       "33.0       3.473059\n",
       "33.6       3.907192\n",
       "34.0       5.209589\n",
       "34.2       6.251507\n",
       "36.0      10.419178\n",
       "40.0      15.628767\n",
       "53.0      31.257534"
      ]
     },
     "execution_count": 20,
     "metadata": {},
     "output_type": "execute_result"
    }
   ],
   "source": [
    "(\n",
    "    surv_freq\n",
    "    .rename(columns={'timeline': 'rainfall'})\n",
    "    .set_index(keys=['rainfall'])\n",
    "    .filter(items=['freq'])\n",
    "    .tail(20)\n",
    ")"
   ]
  },
  {
   "cell_type": "markdown",
   "id": "42c1b242",
   "metadata": {},
   "source": [
    "I.e., \n",
    "* observed at least 30mm of rainfall in a day approx. every 2 years\n",
    "* observed at least 40mm of rainfall in a day approx. every 15 years"
   ]
  },
  {
   "cell_type": "markdown",
   "id": "a235f015",
   "metadata": {},
   "source": [
    "### What about rainfall at different measurement frequencies?\n",
    "\n",
    "The data has measurements every 15 minutes, we can aggregate to different frequencies to distinguish events where there is a lot of rainfall in a short period of time vs. events where there is a lot of rainfall over a long period of time"
   ]
  },
  {
   "cell_type": "code",
   "execution_count": 21,
   "id": "565812fd",
   "metadata": {},
   "outputs": [
    {
     "data": {
      "text/html": [
       "<div>\n",
       "<style scoped>\n",
       "    .dataframe tbody tr th:only-of-type {\n",
       "        vertical-align: middle;\n",
       "    }\n",
       "\n",
       "    .dataframe tbody tr th {\n",
       "        vertical-align: top;\n",
       "    }\n",
       "\n",
       "    .dataframe thead th {\n",
       "        text-align: right;\n",
       "    }\n",
       "</style>\n",
       "<table border=\"1\" class=\"dataframe\">\n",
       "  <thead>\n",
       "    <tr style=\"text-align: right;\">\n",
       "      <th></th>\n",
       "      <th>Rainfall</th>\n",
       "    </tr>\n",
       "    <tr>\n",
       "      <th>Timestamp</th>\n",
       "      <th></th>\n",
       "    </tr>\n",
       "  </thead>\n",
       "  <tbody>\n",
       "    <tr>\n",
       "      <th>2017-06-02 15:00:00+00:00</th>\n",
       "      <td>17.2</td>\n",
       "    </tr>\n",
       "    <tr>\n",
       "      <th>2005-09-10 14:45:00+00:00</th>\n",
       "      <td>16.8</td>\n",
       "    </tr>\n",
       "    <tr>\n",
       "      <th>2000-08-08 11:15:00+00:00</th>\n",
       "      <td>13.4</td>\n",
       "    </tr>\n",
       "    <tr>\n",
       "      <th>2002-08-03 17:00:00+00:00</th>\n",
       "      <td>13.2</td>\n",
       "    </tr>\n",
       "    <tr>\n",
       "      <th>2021-07-25 15:45:00+00:00</th>\n",
       "      <td>12.4</td>\n",
       "    </tr>\n",
       "    <tr>\n",
       "      <th>2002-07-30 22:15:00+00:00</th>\n",
       "      <td>12.4</td>\n",
       "    </tr>\n",
       "    <tr>\n",
       "      <th>2009-06-27 16:45:00+00:00</th>\n",
       "      <td>12.0</td>\n",
       "    </tr>\n",
       "    <tr>\n",
       "      <th>1998-05-26 14:45:00+00:00</th>\n",
       "      <td>11.4</td>\n",
       "    </tr>\n",
       "    <tr>\n",
       "      <th>2021-07-25 14:45:00+00:00</th>\n",
       "      <td>10.8</td>\n",
       "    </tr>\n",
       "    <tr>\n",
       "      <th>2005-09-10 14:30:00+00:00</th>\n",
       "      <td>10.8</td>\n",
       "    </tr>\n",
       "  </tbody>\n",
       "</table>\n",
       "</div>"
      ],
      "text/plain": [
       "                           Rainfall\n",
       "Timestamp                          \n",
       "2017-06-02 15:00:00+00:00      17.2\n",
       "2005-09-10 14:45:00+00:00      16.8\n",
       "2000-08-08 11:15:00+00:00      13.4\n",
       "2002-08-03 17:00:00+00:00      13.2\n",
       "2021-07-25 15:45:00+00:00      12.4\n",
       "2002-07-30 22:15:00+00:00      12.4\n",
       "2009-06-27 16:45:00+00:00      12.0\n",
       "1998-05-26 14:45:00+00:00      11.4\n",
       "2021-07-25 14:45:00+00:00      10.8\n",
       "2005-09-10 14:30:00+00:00      10.8"
      ]
     },
     "execution_count": 21,
     "metadata": {},
     "output_type": "execute_result"
    }
   ],
   "source": [
    "(\n",
    "    df_merged\n",
    "    .set_index(keys=['Timestamp'])\n",
    "    .sort_values(by='Rainfall', ascending=False)\n",
    "    .head(10)\n",
    ")"
   ]
  },
  {
   "cell_type": "markdown",
   "id": "931cbacf",
   "metadata": {},
   "source": [
    "Consider rainfall every 2 hours"
   ]
  },
  {
   "cell_type": "code",
   "execution_count": 22,
   "id": "60fb267d",
   "metadata": {},
   "outputs": [],
   "source": [
    "df_hourly = (\n",
    "    df_merged\n",
    "    .groupby(by=pandas.Grouper(key='Timestamp', freq='2H'))\n",
    "    .agg({'Rainfall': 'sum'})\n",
    ")"
   ]
  },
  {
   "cell_type": "code",
   "execution_count": 23,
   "id": "23bef978",
   "metadata": {},
   "outputs": [
    {
     "data": {
      "image/png": "[encoded data removed]",
      "text/plain": [
       "<Figure size 1000x400 with 1 Axes>"
      ]
     },
     "metadata": {},
     "output_type": "display_data"
    }
   ],
   "source": [
    "f, ax = plt.subplots(1, 1, figsize=(10, 4))\n",
    "\n",
    "ax.plot(df_hourly.index, df_hourly['Rainfall'])\n",
    "\n",
    "ax.set_ylabel('2 Hour Rainfaill (mm)')\n",
    "\n",
    "plt.tight_layout()"
   ]
  },
  {
   "cell_type": "code",
   "execution_count": 24,
   "id": "aeed7557",
   "metadata": {},
   "outputs": [
    {
     "data": {
      "text/html": [
       "<div>\n",
       "<style scoped>\n",
       "    .dataframe tbody tr th:only-of-type {\n",
       "        vertical-align: middle;\n",
       "    }\n",
       "\n",
       "    .dataframe tbody tr th {\n",
       "        vertical-align: top;\n",
       "    }\n",
       "\n",
       "    .dataframe thead th {\n",
       "        text-align: right;\n",
       "    }\n",
       "</style>\n",
       "<table border=\"1\" class=\"dataframe\">\n",
       "  <thead>\n",
       "    <tr style=\"text-align: right;\">\n",
       "      <th></th>\n",
       "      <th></th>\n",
       "      <th>Rainfall</th>\n",
       "    </tr>\n",
       "    <tr>\n",
       "      <th>Date</th>\n",
       "      <th>Timestamp</th>\n",
       "      <th></th>\n",
       "    </tr>\n",
       "  </thead>\n",
       "  <tbody>\n",
       "    <tr>\n",
       "      <th>2021-07-25</th>\n",
       "      <th>2021-07-25 14:00:00+00:00</th>\n",
       "      <td>49.4</td>\n",
       "    </tr>\n",
       "    <tr>\n",
       "      <th>2005-09-10</th>\n",
       "      <th>2005-09-10 14:00:00+00:00</th>\n",
       "      <td>28.6</td>\n",
       "    </tr>\n",
       "    <tr>\n",
       "      <th>1998-05-26</th>\n",
       "      <th>1998-05-26 14:00:00+00:00</th>\n",
       "      <td>26.0</td>\n",
       "    </tr>\n",
       "    <tr>\n",
       "      <th>2016-06-23</th>\n",
       "      <th>2016-06-23 00:00:00+00:00</th>\n",
       "      <td>24.4</td>\n",
       "    </tr>\n",
       "    <tr>\n",
       "      <th>2017-06-02</th>\n",
       "      <th>2017-06-02 14:00:00+00:00</th>\n",
       "      <td>23.4</td>\n",
       "    </tr>\n",
       "    <tr>\n",
       "      <th>2000-09-15</th>\n",
       "      <th>2000-09-15 12:00:00+00:00</th>\n",
       "      <td>22.2</td>\n",
       "    </tr>\n",
       "    <tr>\n",
       "      <th>2002-08-03</th>\n",
       "      <th>2002-08-03 16:00:00+00:00</th>\n",
       "      <td>21.6</td>\n",
       "    </tr>\n",
       "    <tr>\n",
       "      <th>2009-06-27</th>\n",
       "      <th>2009-06-27 16:00:00+00:00</th>\n",
       "      <td>21.4</td>\n",
       "    </tr>\n",
       "    <tr>\n",
       "      <th>2000-08-08</th>\n",
       "      <th>2000-08-08 10:00:00+00:00</th>\n",
       "      <td>20.6</td>\n",
       "    </tr>\n",
       "    <tr>\n",
       "      <th>2022-08-17</th>\n",
       "      <th>2022-08-17 14:00:00+00:00</th>\n",
       "      <td>18.8</td>\n",
       "    </tr>\n",
       "  </tbody>\n",
       "</table>\n",
       "</div>"
      ],
      "text/plain": [
       "                                      Rainfall\n",
       "Date       Timestamp                          \n",
       "2021-07-25 2021-07-25 14:00:00+00:00      49.4\n",
       "2005-09-10 2005-09-10 14:00:00+00:00      28.6\n",
       "1998-05-26 1998-05-26 14:00:00+00:00      26.0\n",
       "2016-06-23 2016-06-23 00:00:00+00:00      24.4\n",
       "2017-06-02 2017-06-02 14:00:00+00:00      23.4\n",
       "2000-09-15 2000-09-15 12:00:00+00:00      22.2\n",
       "2002-08-03 2002-08-03 16:00:00+00:00      21.6\n",
       "2009-06-27 2009-06-27 16:00:00+00:00      21.4\n",
       "2000-08-08 2000-08-08 10:00:00+00:00      20.6\n",
       "2022-08-17 2022-08-17 14:00:00+00:00      18.8"
      ]
     },
     "execution_count": 24,
     "metadata": {},
     "output_type": "execute_result"
    }
   ],
   "source": [
    "(\n",
    "    df_hourly\n",
    "    .reset_index()\n",
    "    .assign(Date=lambda x: x['Timestamp'].dt.date)\n",
    "    .set_index(keys=['Date', 'Timestamp'])\n",
    "    .sort_values(by='Rainfall', ascending=False)\n",
    "    .head(10)\n",
    ")"
   ]
  },
  {
   "cell_type": "code",
   "execution_count": 25,
   "id": "47ad8851",
   "metadata": {},
   "outputs": [],
   "source": [
    "# No events are censored\n",
    "df_hourly['Observed'] = 1\n",
    "\n",
    "obs = df_hourly['Rainfall'].values\n",
    "event = df_hourly['Observed'].values"
   ]
  },
  {
   "cell_type": "code",
   "execution_count": 26,
   "id": "eac56336",
   "metadata": {},
   "outputs": [
    {
     "data": {
      "text/plain": [
       "Text(0.5, 0, '2 Hour Rainfall (mm)')"
      ]
     },
     "execution_count": 26,
     "metadata": {},
     "output_type": "execute_result"
    },
    {
     "data": {
      "image/png": "[encoded data removed]",
      "text/plain": [
       "<Figure size 600x400 with 1 Axes>"
      ]
     },
     "metadata": {},
     "output_type": "display_data"
    }
   ],
   "source": [
    "kmf = KaplanMeierFitter().fit(obs, event)\n",
    "\n",
    "f, ax = plt.subplots(1, 1, figsize=(6, 4))\n",
    "\n",
    "kmf.plot_survival_function(ax=ax)\n",
    "\n",
    "ax.set_ylabel('Probability of X >= x')\n",
    "ax.set_xlabel('2 Hour Rainfall (mm)')"
   ]
  },
  {
   "cell_type": "code",
   "execution_count": 27,
   "id": "afddf879",
   "metadata": {},
   "outputs": [
    {
     "data": {
      "text/plain": [
       "Text(0.5, 0, '2 Hour Rainfall (mm)')"
      ]
     },
     "execution_count": 27,
     "metadata": {},
     "output_type": "execute_result"
    },
    {
     "data": {
      "image/png": "[encoded data removed]",
      "text/plain": [
       "<Figure size 600x400 with 1 Axes>"
      ]
     },
     "metadata": {},
     "output_type": "display_data"
    }
   ],
   "source": [
    "f, ax = plt.subplots(1, 1, figsize=(6, 4))\n",
    "\n",
    "surv_freq = (\n",
    "    kmf.survival_function_\n",
    "    .reset_index()\n",
    "    .assign(\n",
    "        test=1,\n",
    "        freq=lambda x: (x['KM_estimate'] ** (-1)) / (365 * (24/2))\n",
    "    )\n",
    "    .replace({numpy.inf: numpy.nan})\n",
    "    .dropna()\n",
    ")\n",
    "\n",
    "surv_freq.plot(\n",
    "    ax=ax,\n",
    "    kind='scatter',\n",
    "    x='timeline',\n",
    "    y='freq',\n",
    "    s=1.5)\n",
    "\n",
    "ax.set_ylabel('Annualised Frequency')\n",
    "ax.set_xlabel('2 Hour Rainfall (mm)')"
   ]
  },
  {
   "cell_type": "code",
   "execution_count": null,
   "id": "87b348c4",
   "metadata": {},
   "outputs": [],
   "source": []
  }
 ],
 "metadata": {
  "kernelspec": {
   "display_name": "Python 3 (ipykernel)",
   "language": "python",
   "name": "python3"
  },
  "language_info": {
   "codemirror_mode": {
    "name": "ipython",
    "version": 3
   },
   "file_extension": ".py",
   "mimetype": "text/x-python",
   "name": "python",
   "nbconvert_exporter": "python",
   "pygments_lexer": "ipython3",
   "version": "3.9.0"
  }
 },
 "nbformat": 4,
 "nbformat_minor": 5
}
