{
 "cells": [
  {
   "cell_type": "code",
   "execution_count": 1,
   "id": "5f99efdf",
   "metadata": {},
   "outputs": [],
   "source": [
    "import copy\n",
    "import numpy\n",
    "import pandas\n",
    "\n",
    "import matplotlib.pyplot as plt\n",
    "import seaborn as sns"
   ]
  },
  {
   "cell_type": "markdown",
   "id": "8c0d41f3",
   "metadata": {},
   "source": [
    "### Load Data"
   ]
  },
  {
   "cell_type": "code",
   "execution_count": 2,
   "id": "31cc9fd2",
   "metadata": {},
   "outputs": [],
   "source": [
    "df_all = (\n",
    "    pandas.read_csv('data/merged/Wanstead Rainfall Merged.csv')\n",
    "    .assign(Timestamp=lambda x: pandas.to_datetime(x[\"Timestamp\"]))\n",
    ")"
   ]
  },
  {
   "cell_type": "markdown",
   "id": "2c8fb077",
   "metadata": {},
   "source": [
    "Merge data from different time periods"
   ]
  },
  {
   "cell_type": "code",
   "execution_count": 3,
   "id": "91380f77",
   "metadata": {},
   "outputs": [
    {
     "data": {
      "text/html": [
       "<div>\n",
       "<style scoped>\n",
       "    .dataframe tbody tr th:only-of-type {\n",
       "        vertical-align: middle;\n",
       "    }\n",
       "\n",
       "    .dataframe tbody tr th {\n",
       "        vertical-align: top;\n",
       "    }\n",
       "\n",
       "    .dataframe thead th {\n",
       "        text-align: right;\n",
       "    }\n",
       "</style>\n",
       "<table border=\"1\" class=\"dataframe\">\n",
       "  <thead>\n",
       "    <tr style=\"text-align: right;\">\n",
       "      <th></th>\n",
       "      <th>Timestamp</th>\n",
       "      <th>Rainfall</th>\n",
       "    </tr>\n",
       "  </thead>\n",
       "  <tbody>\n",
       "    <tr>\n",
       "      <th>0</th>\n",
       "      <td>1991-06-01 09:15:00+00:00</td>\n",
       "      <td>0.0</td>\n",
       "    </tr>\n",
       "    <tr>\n",
       "      <th>1</th>\n",
       "      <td>1991-06-01 09:30:00+00:00</td>\n",
       "      <td>0.0</td>\n",
       "    </tr>\n",
       "    <tr>\n",
       "      <th>2</th>\n",
       "      <td>1991-06-01 09:45:00+00:00</td>\n",
       "      <td>0.0</td>\n",
       "    </tr>\n",
       "    <tr>\n",
       "      <th>3</th>\n",
       "      <td>1991-06-01 10:00:00+00:00</td>\n",
       "      <td>0.0</td>\n",
       "    </tr>\n",
       "    <tr>\n",
       "      <th>4</th>\n",
       "      <td>1991-06-01 10:15:00+00:00</td>\n",
       "      <td>0.0</td>\n",
       "    </tr>\n",
       "  </tbody>\n",
       "</table>\n",
       "</div>"
      ],
      "text/plain": [
       "                  Timestamp  Rainfall\n",
       "0 1991-06-01 09:15:00+00:00       0.0\n",
       "1 1991-06-01 09:30:00+00:00       0.0\n",
       "2 1991-06-01 09:45:00+00:00       0.0\n",
       "3 1991-06-01 10:00:00+00:00       0.0\n",
       "4 1991-06-01 10:15:00+00:00       0.0"
      ]
     },
     "execution_count": 3,
     "metadata": {},
     "output_type": "execute_result"
    }
   ],
   "source": [
    "df_all.head()"
   ]
  },
  {
   "cell_type": "code",
   "execution_count": 4,
   "id": "fe453c5e",
   "metadata": {},
   "outputs": [
    {
     "data": {
      "text/html": [
       "<div>\n",
       "<style scoped>\n",
       "    .dataframe tbody tr th:only-of-type {\n",
       "        vertical-align: middle;\n",
       "    }\n",
       "\n",
       "    .dataframe tbody tr th {\n",
       "        vertical-align: top;\n",
       "    }\n",
       "\n",
       "    .dataframe thead th {\n",
       "        text-align: right;\n",
       "    }\n",
       "</style>\n",
       "<table border=\"1\" class=\"dataframe\">\n",
       "  <thead>\n",
       "    <tr style=\"text-align: right;\">\n",
       "      <th></th>\n",
       "      <th>Timestamp</th>\n",
       "      <th>Rainfall</th>\n",
       "    </tr>\n",
       "  </thead>\n",
       "  <tbody>\n",
       "    <tr>\n",
       "      <th>1164059</th>\n",
       "      <td>2023-08-20 23:30:00+00:00</td>\n",
       "      <td>0.0</td>\n",
       "    </tr>\n",
       "    <tr>\n",
       "      <th>1164060</th>\n",
       "      <td>2023-08-20 23:45:00+00:00</td>\n",
       "      <td>0.0</td>\n",
       "    </tr>\n",
       "    <tr>\n",
       "      <th>1164061</th>\n",
       "      <td>2023-08-20 23:45:00+00:00</td>\n",
       "      <td>0.0</td>\n",
       "    </tr>\n",
       "    <tr>\n",
       "      <th>1164062</th>\n",
       "      <td>2023-08-20 23:45:00+00:00</td>\n",
       "      <td>0.0</td>\n",
       "    </tr>\n",
       "    <tr>\n",
       "      <th>1164063</th>\n",
       "      <td>2023-08-20 23:45:00+00:00</td>\n",
       "      <td>0.0</td>\n",
       "    </tr>\n",
       "  </tbody>\n",
       "</table>\n",
       "</div>"
      ],
      "text/plain": [
       "                        Timestamp  Rainfall\n",
       "1164059 2023-08-20 23:30:00+00:00       0.0\n",
       "1164060 2023-08-20 23:45:00+00:00       0.0\n",
       "1164061 2023-08-20 23:45:00+00:00       0.0\n",
       "1164062 2023-08-20 23:45:00+00:00       0.0\n",
       "1164063 2023-08-20 23:45:00+00:00       0.0"
      ]
     },
     "execution_count": 4,
     "metadata": {},
     "output_type": "execute_result"
    }
   ],
   "source": [
    "df_all.tail()"
   ]
  },
  {
   "cell_type": "markdown",
   "id": "67b2b23b",
   "metadata": {},
   "source": [
    "### Daily Rainfall\n",
    "\n",
    "Aggregate to daily frequency"
   ]
  },
  {
   "cell_type": "code",
   "execution_count": 5,
   "id": "f1d3e5c6",
   "metadata": {},
   "outputs": [],
   "source": [
    "df_daily = (\n",
    "    df_all\n",
    "    .groupby(by=pandas.Grouper(key='Timestamp', freq='D'))\n",
    "    .agg({'Rainfall': 'sum'})\n",
    ")"
   ]
  },
  {
   "cell_type": "code",
   "execution_count": 6,
   "id": "db2cabcb",
   "metadata": {},
   "outputs": [],
   "source": [
    "df_daily.to_csv('data/merged/Wanstead Daily Rainfall Merged.csv')"
   ]
  },
  {
   "cell_type": "markdown",
   "id": "0254eee8",
   "metadata": {},
   "source": [
    "#### Time-series of daily rainfall"
   ]
  },
  {
   "cell_type": "code",
   "execution_count": 7,
   "id": "7446f56c",
   "metadata": {},
   "outputs": [
    {
     "data": {
      "image/png": "[encoded data removed]",
      "text/plain": [
       "<Figure size 1000x400 with 1 Axes>"
      ]
     },
     "metadata": {},
     "output_type": "display_data"
    }
   ],
   "source": [
    "f, ax = plt.subplots(1, 1, figsize=(10, 4))\n",
    "\n",
    "ax.plot(df_daily.index, df_daily['Rainfall'])\n",
    "\n",
    "ax.set_ylabel('Daily Rainfaill (mm)')\n",
    "\n",
    "ax.axhline(y=30, ls='--', color='orange', alpha=0.5)\n",
    "\n",
    "plt.tight_layout()"
   ]
  },
  {
   "cell_type": "markdown",
   "id": "330daa3a",
   "metadata": {},
   "source": [
    "There is a gap due to the site being offline whilst site works were completed (from FOI request)."
   ]
  },
  {
   "cell_type": "markdown",
   "id": "502ade5c",
   "metadata": {},
   "source": [
    "#### Days with rainfall exceeding 30 mm"
   ]
  },
  {
   "cell_type": "code",
   "execution_count": 8,
   "id": "2f31ae20",
   "metadata": {},
   "outputs": [
    {
     "data": {
      "text/html": [
       "<div>\n",
       "<style scoped>\n",
       "    .dataframe tbody tr th:only-of-type {\n",
       "        vertical-align: middle;\n",
       "    }\n",
       "\n",
       "    .dataframe tbody tr th {\n",
       "        vertical-align: top;\n",
       "    }\n",
       "\n",
       "    .dataframe thead th {\n",
       "        text-align: right;\n",
       "    }\n",
       "</style>\n",
       "<table border=\"1\" class=\"dataframe\">\n",
       "  <thead>\n",
       "    <tr style=\"text-align: right;\">\n",
       "      <th></th>\n",
       "      <th>Rainfall</th>\n",
       "    </tr>\n",
       "    <tr>\n",
       "      <th>Timestamp</th>\n",
       "      <th></th>\n",
       "    </tr>\n",
       "  </thead>\n",
       "  <tbody>\n",
       "    <tr>\n",
       "      <th>2022-08-25 00:00:00+00:00</th>\n",
       "      <td>79.2</td>\n",
       "    </tr>\n",
       "    <tr>\n",
       "      <th>2021-07-25 00:00:00+00:00</th>\n",
       "      <td>54.0</td>\n",
       "    </tr>\n",
       "    <tr>\n",
       "      <th>2016-06-23 00:00:00+00:00</th>\n",
       "      <td>53.0</td>\n",
       "    </tr>\n",
       "    <tr>\n",
       "      <th>2023-08-02 00:00:00+00:00</th>\n",
       "      <td>42.4</td>\n",
       "    </tr>\n",
       "    <tr>\n",
       "      <th>2000-09-15 00:00:00+00:00</th>\n",
       "      <td>40.0</td>\n",
       "    </tr>\n",
       "    <tr>\n",
       "      <th>2022-12-18 00:00:00+00:00</th>\n",
       "      <td>37.6</td>\n",
       "    </tr>\n",
       "    <tr>\n",
       "      <th>2022-12-23 00:00:00+00:00</th>\n",
       "      <td>36.0</td>\n",
       "    </tr>\n",
       "    <tr>\n",
       "      <th>2012-07-08 00:00:00+00:00</th>\n",
       "      <td>36.0</td>\n",
       "    </tr>\n",
       "    <tr>\n",
       "      <th>2005-09-10 00:00:00+00:00</th>\n",
       "      <td>36.0</td>\n",
       "    </tr>\n",
       "    <tr>\n",
       "      <th>2023-07-04 00:00:00+00:00</th>\n",
       "      <td>35.2</td>\n",
       "    </tr>\n",
       "    <tr>\n",
       "      <th>2022-10-23 00:00:00+00:00</th>\n",
       "      <td>34.8</td>\n",
       "    </tr>\n",
       "    <tr>\n",
       "      <th>2002-09-09 00:00:00+00:00</th>\n",
       "      <td>34.2</td>\n",
       "    </tr>\n",
       "    <tr>\n",
       "      <th>1992-10-20 00:00:00+00:00</th>\n",
       "      <td>34.0</td>\n",
       "    </tr>\n",
       "    <tr>\n",
       "      <th>1992-05-29 00:00:00+00:00</th>\n",
       "      <td>34.0</td>\n",
       "    </tr>\n",
       "    <tr>\n",
       "      <th>1993-10-02 00:00:00+00:00</th>\n",
       "      <td>33.6</td>\n",
       "    </tr>\n",
       "    <tr>\n",
       "      <th>1998-05-26 00:00:00+00:00</th>\n",
       "      <td>33.0</td>\n",
       "    </tr>\n",
       "    <tr>\n",
       "      <th>2022-08-17 00:00:00+00:00</th>\n",
       "      <td>32.6</td>\n",
       "    </tr>\n",
       "    <tr>\n",
       "      <th>2014-10-13 00:00:00+00:00</th>\n",
       "      <td>32.4</td>\n",
       "    </tr>\n",
       "    <tr>\n",
       "      <th>2001-10-21 00:00:00+00:00</th>\n",
       "      <td>31.4</td>\n",
       "    </tr>\n",
       "    <tr>\n",
       "      <th>2020-10-02 00:00:00+00:00</th>\n",
       "      <td>31.2</td>\n",
       "    </tr>\n",
       "    <tr>\n",
       "      <th>2017-08-09 00:00:00+00:00</th>\n",
       "      <td>31.0</td>\n",
       "    </tr>\n",
       "    <tr>\n",
       "      <th>2012-06-11 00:00:00+00:00</th>\n",
       "      <td>30.8</td>\n",
       "    </tr>\n",
       "    <tr>\n",
       "      <th>2013-09-13 00:00:00+00:00</th>\n",
       "      <td>30.2</td>\n",
       "    </tr>\n",
       "  </tbody>\n",
       "</table>\n",
       "</div>"
      ],
      "text/plain": [
       "                           Rainfall\n",
       "Timestamp                          \n",
       "2022-08-25 00:00:00+00:00      79.2\n",
       "2021-07-25 00:00:00+00:00      54.0\n",
       "2016-06-23 00:00:00+00:00      53.0\n",
       "2023-08-02 00:00:00+00:00      42.4\n",
       "2000-09-15 00:00:00+00:00      40.0\n",
       "2022-12-18 00:00:00+00:00      37.6\n",
       "2022-12-23 00:00:00+00:00      36.0\n",
       "2012-07-08 00:00:00+00:00      36.0\n",
       "2005-09-10 00:00:00+00:00      36.0\n",
       "2023-07-04 00:00:00+00:00      35.2\n",
       "2022-10-23 00:00:00+00:00      34.8\n",
       "2002-09-09 00:00:00+00:00      34.2\n",
       "1992-10-20 00:00:00+00:00      34.0\n",
       "1992-05-29 00:00:00+00:00      34.0\n",
       "1993-10-02 00:00:00+00:00      33.6\n",
       "1998-05-26 00:00:00+00:00      33.0\n",
       "2022-08-17 00:00:00+00:00      32.6\n",
       "2014-10-13 00:00:00+00:00      32.4\n",
       "2001-10-21 00:00:00+00:00      31.4\n",
       "2020-10-02 00:00:00+00:00      31.2\n",
       "2017-08-09 00:00:00+00:00      31.0\n",
       "2012-06-11 00:00:00+00:00      30.8\n",
       "2013-09-13 00:00:00+00:00      30.2"
      ]
     },
     "execution_count": 8,
     "metadata": {},
     "output_type": "execute_result"
    }
   ],
   "source": [
    "(\n",
    "    df_daily\n",
    "    .sort_values(by='Rainfall', ascending=False)\n",
    "    .loc[lambda x: x[\"Rainfall\"] >= 30]\n",
    ")"
   ]
  },
  {
   "cell_type": "markdown",
   "id": "7e6b4466",
   "metadata": {},
   "source": [
    "#### Number of occurences above a certain threshold"
   ]
  },
  {
   "cell_type": "code",
   "execution_count": 9,
   "id": "b1ba08b9",
   "metadata": {},
   "outputs": [
    {
     "data": {
      "text/html": [
       "<div>\n",
       "<style scoped>\n",
       "    .dataframe tbody tr th:only-of-type {\n",
       "        vertical-align: middle;\n",
       "    }\n",
       "\n",
       "    .dataframe tbody tr th {\n",
       "        vertical-align: top;\n",
       "    }\n",
       "\n",
       "    .dataframe thead th {\n",
       "        text-align: right;\n",
       "    }\n",
       "</style>\n",
       "<table border=\"1\" class=\"dataframe\">\n",
       "  <thead>\n",
       "    <tr style=\"text-align: right;\">\n",
       "      <th></th>\n",
       "      <th>NEvents</th>\n",
       "    </tr>\n",
       "    <tr>\n",
       "      <th>Threshold</th>\n",
       "      <th></th>\n",
       "    </tr>\n",
       "  </thead>\n",
       "  <tbody>\n",
       "    <tr>\n",
       "      <th>15</th>\n",
       "      <td>175</td>\n",
       "    </tr>\n",
       "    <tr>\n",
       "      <th>20</th>\n",
       "      <td>82</td>\n",
       "    </tr>\n",
       "    <tr>\n",
       "      <th>25</th>\n",
       "      <td>38</td>\n",
       "    </tr>\n",
       "    <tr>\n",
       "      <th>30</th>\n",
       "      <td>23</td>\n",
       "    </tr>\n",
       "    <tr>\n",
       "      <th>35</th>\n",
       "      <td>10</td>\n",
       "    </tr>\n",
       "    <tr>\n",
       "      <th>40</th>\n",
       "      <td>4</td>\n",
       "    </tr>\n",
       "    <tr>\n",
       "      <th>45</th>\n",
       "      <td>3</td>\n",
       "    </tr>\n",
       "    <tr>\n",
       "      <th>50</th>\n",
       "      <td>3</td>\n",
       "    </tr>\n",
       "  </tbody>\n",
       "</table>\n",
       "</div>"
      ],
      "text/plain": [
       "           NEvents\n",
       "Threshold         \n",
       "15             175\n",
       "20              82\n",
       "25              38\n",
       "30              23\n",
       "35              10\n",
       "40               4\n",
       "45               3\n",
       "50               3"
      ]
     },
     "execution_count": 9,
     "metadata": {},
     "output_type": "execute_result"
    }
   ],
   "source": [
    "pandas.DataFrame(\n",
    "    {'Threshold': threshold, 'NEvents': len(df_daily.loc[lambda x: x['Rainfall'] > threshold])}\n",
    "    for threshold in [15, 20, 25, 30, 35, 40, 45, 50]\n",
    ").set_index(keys=['Threshold'])"
   ]
  },
  {
   "cell_type": "markdown",
   "id": "b89c8ab4",
   "metadata": {},
   "source": [
    "There were 15 days where there was more than 30mm of rainfall"
   ]
  },
  {
   "cell_type": "markdown",
   "id": "ed606e08",
   "metadata": {},
   "source": [
    "#### Distribution of events\n",
    "\n",
    "Approx. 30 year period, let's consider the probability of rainfall exceeding a value $X$, i.e., survival function but instead of considering survival past a given duration we consider rainfall greater than a certain amount"
   ]
  },
  {
   "cell_type": "markdown",
   "id": "09dfae12",
   "metadata": {},
   "source": [
    "#### Fit survival function"
   ]
  },
  {
   "cell_type": "code",
   "execution_count": 10,
   "id": "51a05c5a",
   "metadata": {},
   "outputs": [],
   "source": [
    "from lifelines import KaplanMeierFitter, ExponentialFitter, NelsonAalenFitter"
   ]
  },
  {
   "cell_type": "code",
   "execution_count": 11,
   "id": "ef359588",
   "metadata": {},
   "outputs": [],
   "source": [
    "# No events are censored\n",
    "df_daily['Observed'] = 1\n",
    "\n",
    "obs = df_daily['Rainfall'].values\n",
    "event = df_daily['Observed'].values"
   ]
  },
  {
   "cell_type": "code",
   "execution_count": 12,
   "id": "28bc0827",
   "metadata": {},
   "outputs": [],
   "source": [
    "kmf = KaplanMeierFitter().fit(obs, event)"
   ]
  },
  {
   "cell_type": "code",
   "execution_count": 13,
   "id": "a3c56bc4",
   "metadata": {},
   "outputs": [
    {
     "data": {
      "text/plain": [
       "Text(0.5, 0, 'Daily Rainfall (mm)')"
      ]
     },
     "execution_count": 13,
     "metadata": {},
     "output_type": "execute_result"
    },
    {
     "data": {
      "image/png": "[encoded data removed]",
      "text/plain": [
       "<Figure size 600x400 with 1 Axes>"
      ]
     },
     "metadata": {},
     "output_type": "display_data"
    }
   ],
   "source": [
    "f, ax = plt.subplots(1, 1, figsize=(6, 4))\n",
    "\n",
    "kmf.plot_survival_function(ax=ax)\n",
    "\n",
    "ax.set_ylabel('Probability of X >= x')\n",
    "ax.set_xlabel('Daily Rainfall (mm)')"
   ]
  },
  {
   "cell_type": "markdown",
   "id": "ee4f27e4",
   "metadata": {},
   "source": [
    "Invert probability to frequency of event"
   ]
  },
  {
   "cell_type": "code",
   "execution_count": 14,
   "id": "2149d498",
   "metadata": {},
   "outputs": [
    {
     "data": {
      "text/html": [
       "<div>\n",
       "<style scoped>\n",
       "    .dataframe tbody tr th:only-of-type {\n",
       "        vertical-align: middle;\n",
       "    }\n",
       "\n",
       "    .dataframe tbody tr th {\n",
       "        vertical-align: top;\n",
       "    }\n",
       "\n",
       "    .dataframe thead th {\n",
       "        text-align: right;\n",
       "    }\n",
       "</style>\n",
       "<table border=\"1\" class=\"dataframe\">\n",
       "  <thead>\n",
       "    <tr style=\"text-align: right;\">\n",
       "      <th></th>\n",
       "      <th>KM_estimate</th>\n",
       "    </tr>\n",
       "    <tr>\n",
       "      <th>timeline</th>\n",
       "      <th></th>\n",
       "    </tr>\n",
       "  </thead>\n",
       "  <tbody>\n",
       "    <tr>\n",
       "      <th>0.0</th>\n",
       "      <td>0.426119</td>\n",
       "    </tr>\n",
       "    <tr>\n",
       "      <th>0.2</th>\n",
       "      <td>0.354661</td>\n",
       "    </tr>\n",
       "    <tr>\n",
       "      <th>0.4</th>\n",
       "      <td>0.319313</td>\n",
       "    </tr>\n",
       "    <tr>\n",
       "      <th>0.6</th>\n",
       "      <td>0.317104</td>\n",
       "    </tr>\n",
       "    <tr>\n",
       "      <th>0.6</th>\n",
       "      <td>0.293483</td>\n",
       "    </tr>\n",
       "    <tr>\n",
       "      <th>...</th>\n",
       "      <td>...</td>\n",
       "    </tr>\n",
       "    <tr>\n",
       "      <th>40.0</th>\n",
       "      <td>0.000340</td>\n",
       "    </tr>\n",
       "    <tr>\n",
       "      <th>42.4</th>\n",
       "      <td>0.000255</td>\n",
       "    </tr>\n",
       "    <tr>\n",
       "      <th>53.0</th>\n",
       "      <td>0.000170</td>\n",
       "    </tr>\n",
       "    <tr>\n",
       "      <th>54.0</th>\n",
       "      <td>0.000085</td>\n",
       "    </tr>\n",
       "    <tr>\n",
       "      <th>79.2</th>\n",
       "      <td>0.000000</td>\n",
       "    </tr>\n",
       "  </tbody>\n",
       "</table>\n",
       "<p>211 rows × 1 columns</p>\n",
       "</div>"
      ],
      "text/plain": [
       "          KM_estimate\n",
       "timeline             \n",
       "0.0          0.426119\n",
       "0.2          0.354661\n",
       "0.4          0.319313\n",
       "0.6          0.317104\n",
       "0.6          0.293483\n",
       "...               ...\n",
       "40.0         0.000340\n",
       "42.4         0.000255\n",
       "53.0         0.000170\n",
       "54.0         0.000085\n",
       "79.2         0.000000\n",
       "\n",
       "[211 rows x 1 columns]"
      ]
     },
     "execution_count": 14,
     "metadata": {},
     "output_type": "execute_result"
    }
   ],
   "source": [
    "kmf.survival_function_"
   ]
  },
  {
   "cell_type": "code",
   "execution_count": 15,
   "id": "9dd028f0",
   "metadata": {},
   "outputs": [
    {
     "data": {
      "text/plain": [
       "Text(0.5, 0, 'Daily Rainfall (mm)')"
      ]
     },
     "execution_count": 15,
     "metadata": {},
     "output_type": "execute_result"
    },
    {
     "data": {
      "image/png": "[encoded data removed]",
      "text/plain": [
       "<Figure size 600x400 with 1 Axes>"
      ]
     },
     "metadata": {},
     "output_type": "display_data"
    }
   ],
   "source": [
    "f, ax = plt.subplots(1, 1, figsize=(6, 4))\n",
    "\n",
    "surv_freq = (\n",
    "    kmf.survival_function_\n",
    "    .reset_index()\n",
    "    .assign(\n",
    "        test=1,\n",
    "        freq=lambda x: (x['KM_estimate'] ** (-1)) / 365\n",
    "    )\n",
    "    .replace({numpy.inf: numpy.nan})\n",
    "    .dropna()\n",
    ")\n",
    "\n",
    "surv_freq.plot(\n",
    "    ax=ax,\n",
    "    kind='scatter',\n",
    "    x='timeline',\n",
    "    y='freq',\n",
    "    s=1.5)\n",
    "\n",
    "ax.set_ylabel('Annualised Frequency')\n",
    "ax.set_xlabel('Daily Rainfall (mm)')"
   ]
  },
  {
   "cell_type": "code",
   "execution_count": 16,
   "id": "d74e50b6",
   "metadata": {},
   "outputs": [
    {
     "data": {
      "text/html": [
       "<div>\n",
       "<style scoped>\n",
       "    .dataframe tbody tr th:only-of-type {\n",
       "        vertical-align: middle;\n",
       "    }\n",
       "\n",
       "    .dataframe tbody tr th {\n",
       "        vertical-align: top;\n",
       "    }\n",
       "\n",
       "    .dataframe thead th {\n",
       "        text-align: right;\n",
       "    }\n",
       "</style>\n",
       "<table border=\"1\" class=\"dataframe\">\n",
       "  <thead>\n",
       "    <tr style=\"text-align: right;\">\n",
       "      <th></th>\n",
       "      <th>freq</th>\n",
       "    </tr>\n",
       "    <tr>\n",
       "      <th>rainfall</th>\n",
       "      <th></th>\n",
       "    </tr>\n",
       "  </thead>\n",
       "  <tbody>\n",
       "    <tr>\n",
       "      <th>29.8</th>\n",
       "      <td>1.401906</td>\n",
       "    </tr>\n",
       "    <tr>\n",
       "      <th>30.2</th>\n",
       "      <td>1.465629</td>\n",
       "    </tr>\n",
       "    <tr>\n",
       "      <th>30.8</th>\n",
       "      <td>1.535421</td>\n",
       "    </tr>\n",
       "    <tr>\n",
       "      <th>31.0</th>\n",
       "      <td>1.612192</td>\n",
       "    </tr>\n",
       "    <tr>\n",
       "      <th>31.2</th>\n",
       "      <td>1.697044</td>\n",
       "    </tr>\n",
       "    <tr>\n",
       "      <th>31.4</th>\n",
       "      <td>1.791324</td>\n",
       "    </tr>\n",
       "    <tr>\n",
       "      <th>32.4</th>\n",
       "      <td>1.896696</td>\n",
       "    </tr>\n",
       "    <tr>\n",
       "      <th>32.6</th>\n",
       "      <td>2.015240</td>\n",
       "    </tr>\n",
       "    <tr>\n",
       "      <th>33.0</th>\n",
       "      <td>2.149589</td>\n",
       "    </tr>\n",
       "    <tr>\n",
       "      <th>33.6</th>\n",
       "      <td>2.303131</td>\n",
       "    </tr>\n",
       "    <tr>\n",
       "      <th>34.0</th>\n",
       "      <td>2.686986</td>\n",
       "    </tr>\n",
       "    <tr>\n",
       "      <th>34.2</th>\n",
       "      <td>2.931258</td>\n",
       "    </tr>\n",
       "    <tr>\n",
       "      <th>34.8</th>\n",
       "      <td>3.224384</td>\n",
       "    </tr>\n",
       "    <tr>\n",
       "      <th>35.2</th>\n",
       "      <td>3.582648</td>\n",
       "    </tr>\n",
       "    <tr>\n",
       "      <th>36.0</th>\n",
       "      <td>5.373973</td>\n",
       "    </tr>\n",
       "    <tr>\n",
       "      <th>37.6</th>\n",
       "      <td>6.448767</td>\n",
       "    </tr>\n",
       "    <tr>\n",
       "      <th>40.0</th>\n",
       "      <td>8.060959</td>\n",
       "    </tr>\n",
       "    <tr>\n",
       "      <th>42.4</th>\n",
       "      <td>10.747945</td>\n",
       "    </tr>\n",
       "    <tr>\n",
       "      <th>53.0</th>\n",
       "      <td>16.121918</td>\n",
       "    </tr>\n",
       "    <tr>\n",
       "      <th>54.0</th>\n",
       "      <td>32.243836</td>\n",
       "    </tr>\n",
       "  </tbody>\n",
       "</table>\n",
       "</div>"
      ],
      "text/plain": [
       "               freq\n",
       "rainfall           \n",
       "29.8       1.401906\n",
       "30.2       1.465629\n",
       "30.8       1.535421\n",
       "31.0       1.612192\n",
       "31.2       1.697044\n",
       "31.4       1.791324\n",
       "32.4       1.896696\n",
       "32.6       2.015240\n",
       "33.0       2.149589\n",
       "33.6       2.303131\n",
       "34.0       2.686986\n",
       "34.2       2.931258\n",
       "34.8       3.224384\n",
       "35.2       3.582648\n",
       "36.0       5.373973\n",
       "37.6       6.448767\n",
       "40.0       8.060959\n",
       "42.4      10.747945\n",
       "53.0      16.121918\n",
       "54.0      32.243836"
      ]
     },
     "execution_count": 16,
     "metadata": {},
     "output_type": "execute_result"
    }
   ],
   "source": [
    "(\n",
    "    surv_freq\n",
    "    .rename(columns={'timeline': 'rainfall'})\n",
    "    .set_index(keys=['rainfall'])\n",
    "    .filter(items=['freq'])\n",
    "    .tail(20)\n",
    ")"
   ]
  },
  {
   "cell_type": "markdown",
   "id": "33bc753c",
   "metadata": {},
   "source": [
    "I.e., \n",
    "* observed at least 30mm of rainfall in a day approx. every 2 years\n",
    "* observed at least 40mm of rainfall in a day approx. every 15 years"
   ]
  },
  {
   "cell_type": "markdown",
   "id": "a80d9c84",
   "metadata": {},
   "source": [
    "### What about rainfall at different measurement frequencies?\n",
    "\n",
    "The data has measurements every 15 minutes, we can aggregate to different frequencies to distinguish events where there is a lot of rainfall in a short period of time vs. events where there is a lot of rainfall over a long period of time"
   ]
  },
  {
   "cell_type": "code",
   "execution_count": 17,
   "id": "cc27cd5e",
   "metadata": {},
   "outputs": [
    {
     "data": {
      "text/html": [
       "<div>\n",
       "<style scoped>\n",
       "    .dataframe tbody tr th:only-of-type {\n",
       "        vertical-align: middle;\n",
       "    }\n",
       "\n",
       "    .dataframe tbody tr th {\n",
       "        vertical-align: top;\n",
       "    }\n",
       "\n",
       "    .dataframe thead th {\n",
       "        text-align: right;\n",
       "    }\n",
       "</style>\n",
       "<table border=\"1\" class=\"dataframe\">\n",
       "  <thead>\n",
       "    <tr style=\"text-align: right;\">\n",
       "      <th></th>\n",
       "      <th>Rainfall</th>\n",
       "    </tr>\n",
       "    <tr>\n",
       "      <th>Timestamp</th>\n",
       "      <th></th>\n",
       "    </tr>\n",
       "  </thead>\n",
       "  <tbody>\n",
       "    <tr>\n",
       "      <th>2017-06-02 15:00:00+00:00</th>\n",
       "      <td>17.2</td>\n",
       "    </tr>\n",
       "    <tr>\n",
       "      <th>2005-09-10 14:45:00+00:00</th>\n",
       "      <td>16.8</td>\n",
       "    </tr>\n",
       "    <tr>\n",
       "      <th>2000-08-08 11:15:00+00:00</th>\n",
       "      <td>13.4</td>\n",
       "    </tr>\n",
       "    <tr>\n",
       "      <th>2002-08-03 17:00:00+00:00</th>\n",
       "      <td>13.2</td>\n",
       "    </tr>\n",
       "    <tr>\n",
       "      <th>2021-07-25 15:45:00+00:00</th>\n",
       "      <td>12.4</td>\n",
       "    </tr>\n",
       "    <tr>\n",
       "      <th>2002-07-30 22:15:00+00:00</th>\n",
       "      <td>12.4</td>\n",
       "    </tr>\n",
       "    <tr>\n",
       "      <th>2009-06-27 16:45:00+00:00</th>\n",
       "      <td>12.0</td>\n",
       "    </tr>\n",
       "    <tr>\n",
       "      <th>1998-05-26 14:45:00+00:00</th>\n",
       "      <td>11.4</td>\n",
       "    </tr>\n",
       "    <tr>\n",
       "      <th>2022-12-18 19:30:00+00:00</th>\n",
       "      <td>11.0</td>\n",
       "    </tr>\n",
       "    <tr>\n",
       "      <th>2022-12-18 19:30:00+00:00</th>\n",
       "      <td>11.0</td>\n",
       "    </tr>\n",
       "  </tbody>\n",
       "</table>\n",
       "</div>"
      ],
      "text/plain": [
       "                           Rainfall\n",
       "Timestamp                          \n",
       "2017-06-02 15:00:00+00:00      17.2\n",
       "2005-09-10 14:45:00+00:00      16.8\n",
       "2000-08-08 11:15:00+00:00      13.4\n",
       "2002-08-03 17:00:00+00:00      13.2\n",
       "2021-07-25 15:45:00+00:00      12.4\n",
       "2002-07-30 22:15:00+00:00      12.4\n",
       "2009-06-27 16:45:00+00:00      12.0\n",
       "1998-05-26 14:45:00+00:00      11.4\n",
       "2022-12-18 19:30:00+00:00      11.0\n",
       "2022-12-18 19:30:00+00:00      11.0"
      ]
     },
     "execution_count": 17,
     "metadata": {},
     "output_type": "execute_result"
    }
   ],
   "source": [
    "(\n",
    "    df_all\n",
    "    .set_index(keys=['Timestamp'])\n",
    "    .sort_values(by='Rainfall', ascending=False)\n",
    "    .head(10)\n",
    ")"
   ]
  },
  {
   "cell_type": "markdown",
   "id": "ca0590ab",
   "metadata": {},
   "source": [
    "Consider rainfall every 2 hours"
   ]
  },
  {
   "cell_type": "code",
   "execution_count": 18,
   "id": "25209584",
   "metadata": {},
   "outputs": [],
   "source": [
    "df_hourly = (\n",
    "    df_all\n",
    "    .groupby(by=pandas.Grouper(key='Timestamp', freq='2H'))\n",
    "    .agg({'Rainfall': 'sum'})\n",
    ")"
   ]
  },
  {
   "cell_type": "code",
   "execution_count": 19,
   "id": "92b0650d",
   "metadata": {},
   "outputs": [
    {
     "data": {
      "image/png": "[encoded data removed]",
      "text/plain": [
       "<Figure size 1000x400 with 1 Axes>"
      ]
     },
     "metadata": {},
     "output_type": "display_data"
    }
   ],
   "source": [
    "f, ax = plt.subplots(1, 1, figsize=(10, 4))\n",
    "\n",
    "ax.plot(df_hourly.index, df_hourly['Rainfall'])\n",
    "\n",
    "ax.set_ylabel('2 Hour Rainfaill (mm)')\n",
    "\n",
    "plt.tight_layout()"
   ]
  },
  {
   "cell_type": "code",
   "execution_count": 20,
   "id": "5793a5a4",
   "metadata": {},
   "outputs": [
    {
     "data": {
      "text/html": [
       "<div>\n",
       "<style scoped>\n",
       "    .dataframe tbody tr th:only-of-type {\n",
       "        vertical-align: middle;\n",
       "    }\n",
       "\n",
       "    .dataframe tbody tr th {\n",
       "        vertical-align: top;\n",
       "    }\n",
       "\n",
       "    .dataframe thead th {\n",
       "        text-align: right;\n",
       "    }\n",
       "</style>\n",
       "<table border=\"1\" class=\"dataframe\">\n",
       "  <thead>\n",
       "    <tr style=\"text-align: right;\">\n",
       "      <th></th>\n",
       "      <th></th>\n",
       "      <th>Rainfall</th>\n",
       "    </tr>\n",
       "    <tr>\n",
       "      <th>Date</th>\n",
       "      <th>Timestamp</th>\n",
       "      <th></th>\n",
       "    </tr>\n",
       "  </thead>\n",
       "  <tbody>\n",
       "    <tr>\n",
       "      <th>2021-07-25</th>\n",
       "      <th>2021-07-25 14:00:00+00:00</th>\n",
       "      <td>49.4</td>\n",
       "    </tr>\n",
       "    <tr>\n",
       "      <th>2005-09-10</th>\n",
       "      <th>2005-09-10 14:00:00+00:00</th>\n",
       "      <td>28.6</td>\n",
       "    </tr>\n",
       "    <tr>\n",
       "      <th>2022-12-18</th>\n",
       "      <th>2022-12-18 18:00:00+00:00</th>\n",
       "      <td>26.4</td>\n",
       "    </tr>\n",
       "    <tr>\n",
       "      <th>1998-05-26</th>\n",
       "      <th>1998-05-26 14:00:00+00:00</th>\n",
       "      <td>26.0</td>\n",
       "    </tr>\n",
       "    <tr>\n",
       "      <th>2016-06-23</th>\n",
       "      <th>2016-06-23 00:00:00+00:00</th>\n",
       "      <td>24.4</td>\n",
       "    </tr>\n",
       "    <tr>\n",
       "      <th>2017-06-02</th>\n",
       "      <th>2017-06-02 14:00:00+00:00</th>\n",
       "      <td>23.4</td>\n",
       "    </tr>\n",
       "    <tr>\n",
       "      <th>2022-12-23</th>\n",
       "      <th>2022-12-23 08:00:00+00:00</th>\n",
       "      <td>22.4</td>\n",
       "    </tr>\n",
       "    <tr>\n",
       "      <th>2000-09-15</th>\n",
       "      <th>2000-09-15 12:00:00+00:00</th>\n",
       "      <td>22.2</td>\n",
       "    </tr>\n",
       "    <tr>\n",
       "      <th>2002-08-03</th>\n",
       "      <th>2002-08-03 16:00:00+00:00</th>\n",
       "      <td>21.6</td>\n",
       "    </tr>\n",
       "    <tr>\n",
       "      <th>2009-06-27</th>\n",
       "      <th>2009-06-27 16:00:00+00:00</th>\n",
       "      <td>21.4</td>\n",
       "    </tr>\n",
       "  </tbody>\n",
       "</table>\n",
       "</div>"
      ],
      "text/plain": [
       "                                      Rainfall\n",
       "Date       Timestamp                          \n",
       "2021-07-25 2021-07-25 14:00:00+00:00      49.4\n",
       "2005-09-10 2005-09-10 14:00:00+00:00      28.6\n",
       "2022-12-18 2022-12-18 18:00:00+00:00      26.4\n",
       "1998-05-26 1998-05-26 14:00:00+00:00      26.0\n",
       "2016-06-23 2016-06-23 00:00:00+00:00      24.4\n",
       "2017-06-02 2017-06-02 14:00:00+00:00      23.4\n",
       "2022-12-23 2022-12-23 08:00:00+00:00      22.4\n",
       "2000-09-15 2000-09-15 12:00:00+00:00      22.2\n",
       "2002-08-03 2002-08-03 16:00:00+00:00      21.6\n",
       "2009-06-27 2009-06-27 16:00:00+00:00      21.4"
      ]
     },
     "execution_count": 20,
     "metadata": {},
     "output_type": "execute_result"
    }
   ],
   "source": [
    "(\n",
    "    df_hourly\n",
    "    .reset_index()\n",
    "    .assign(Date=lambda x: x['Timestamp'].dt.date)\n",
    "    .set_index(keys=['Date', 'Timestamp'])\n",
    "    .sort_values(by='Rainfall', ascending=False)\n",
    "    .head(10)\n",
    ")"
   ]
  },
  {
   "cell_type": "code",
   "execution_count": 21,
   "id": "2aa0d827",
   "metadata": {},
   "outputs": [],
   "source": [
    "# No events are censored\n",
    "df_hourly['Observed'] = 1\n",
    "\n",
    "obs = df_hourly['Rainfall'].values\n",
    "event = df_hourly['Observed'].values"
   ]
  },
  {
   "cell_type": "code",
   "execution_count": 22,
   "id": "02bbd4ab",
   "metadata": {},
   "outputs": [
    {
     "data": {
      "text/plain": [
       "Text(0.5, 0, '2 Hour Rainfall (mm)')"
      ]
     },
     "execution_count": 22,
     "metadata": {},
     "output_type": "execute_result"
    },
    {
     "data": {
      "image/png": "[encoded data removed]",
      "text/plain": [
       "<Figure size 600x400 with 1 Axes>"
      ]
     },
     "metadata": {},
     "output_type": "display_data"
    }
   ],
   "source": [
    "kmf = KaplanMeierFitter().fit(obs, event)\n",
    "\n",
    "f, ax = plt.subplots(1, 1, figsize=(6, 4))\n",
    "\n",
    "kmf.plot_survival_function(ax=ax)\n",
    "\n",
    "ax.set_ylabel('Probability of X >= x')\n",
    "ax.set_xlabel('2 Hour Rainfall (mm)')"
   ]
  },
  {
   "cell_type": "code",
   "execution_count": 23,
   "id": "14a65aa0",
   "metadata": {},
   "outputs": [
    {
     "data": {
      "text/plain": [
       "Text(0.5, 0, '2 Hour Rainfall (mm)')"
      ]
     },
     "execution_count": 23,
     "metadata": {},
     "output_type": "execute_result"
    },
    {
     "data": {
      "image/png": "[encoded data removed]",
      "text/plain": [
       "<Figure size 600x400 with 1 Axes>"
      ]
     },
     "metadata": {},
     "output_type": "display_data"
    }
   ],
   "source": [
    "f, ax = plt.subplots(1, 1, figsize=(6, 4))\n",
    "\n",
    "surv_freq = (\n",
    "    kmf.survival_function_\n",
    "    .reset_index()\n",
    "    .assign(\n",
    "        test=1,\n",
    "        freq=lambda x: (x['KM_estimate'] ** (-1)) / (365 * (24/2))\n",
    "    )\n",
    "    .replace({numpy.inf: numpy.nan})\n",
    "    .dropna()\n",
    ")\n",
    "\n",
    "surv_freq.plot(\n",
    "    ax=ax,\n",
    "    kind='scatter',\n",
    "    x='timeline',\n",
    "    y='freq',\n",
    "    s=1.5)\n",
    "\n",
    "ax.set_ylabel('Annualised Frequency')\n",
    "ax.set_xlabel('2 Hour Rainfall (mm)')"
   ]
  },
  {
   "cell_type": "markdown",
   "id": "0a1626dc",
   "metadata": {},
   "source": [
    "### Check rolling window\n",
    "\n",
    "Previous 2 hour windows were distinct, consider a rolling window to see if this captures any other periods..."
   ]
  },
  {
   "cell_type": "code",
   "execution_count": 24,
   "id": "5cdaf431",
   "metadata": {},
   "outputs": [],
   "source": [
    "df_rolling = (\n",
    "    df_all\n",
    "    .set_index(keys=['Timestamp'])\n",
    "    .rolling(8)\n",
    "    .sum()\n",
    "    .fillna(value=0)\n",
    ")"
   ]
  },
  {
   "cell_type": "code",
   "execution_count": 25,
   "id": "9fe4bbbe",
   "metadata": {},
   "outputs": [
    {
     "data": {
      "image/png": "[encoded data removed]",
      "text/plain": [
       "<Figure size 1000x400 with 1 Axes>"
      ]
     },
     "metadata": {},
     "output_type": "display_data"
    }
   ],
   "source": [
    "f, ax = plt.subplots(1, 1, figsize=(10, 4))\n",
    "\n",
    "ax.plot(df_rolling.index, df_rolling['Rainfall'])\n",
    "\n",
    "ax.set_ylabel('2 Hour Rolling Rainfaill (mm)')\n",
    "\n",
    "plt.tight_layout()"
   ]
  },
  {
   "cell_type": "markdown",
   "id": "348e76af",
   "metadata": {},
   "source": [
    "Sort dates by largest amount of rainfall in a 2 hour period"
   ]
  },
  {
   "cell_type": "code",
   "execution_count": 26,
   "id": "3ae8658b",
   "metadata": {},
   "outputs": [
    {
     "data": {
      "text/html": [
       "<div>\n",
       "<style scoped>\n",
       "    .dataframe tbody tr th:only-of-type {\n",
       "        vertical-align: middle;\n",
       "    }\n",
       "\n",
       "    .dataframe tbody tr th {\n",
       "        vertical-align: top;\n",
       "    }\n",
       "\n",
       "    .dataframe thead th {\n",
       "        text-align: right;\n",
       "    }\n",
       "</style>\n",
       "<table border=\"1\" class=\"dataframe\">\n",
       "  <thead>\n",
       "    <tr style=\"text-align: right;\">\n",
       "      <th></th>\n",
       "      <th>Rainfall</th>\n",
       "    </tr>\n",
       "    <tr>\n",
       "      <th>Date</th>\n",
       "      <th></th>\n",
       "    </tr>\n",
       "  </thead>\n",
       "  <tbody>\n",
       "    <tr>\n",
       "      <th>2021-07-25</th>\n",
       "      <td>50.8</td>\n",
       "    </tr>\n",
       "    <tr>\n",
       "      <th>2016-06-23</th>\n",
       "      <td>34.4</td>\n",
       "    </tr>\n",
       "    <tr>\n",
       "      <th>2005-09-10</th>\n",
       "      <td>28.6</td>\n",
       "    </tr>\n",
       "    <tr>\n",
       "      <th>1998-05-26</th>\n",
       "      <td>26.4</td>\n",
       "    </tr>\n",
       "    <tr>\n",
       "      <th>2022-12-18</th>\n",
       "      <td>26.4</td>\n",
       "    </tr>\n",
       "    <tr>\n",
       "      <th>2002-09-09</th>\n",
       "      <td>23.6</td>\n",
       "    </tr>\n",
       "    <tr>\n",
       "      <th>2017-06-02</th>\n",
       "      <td>23.6</td>\n",
       "    </tr>\n",
       "    <tr>\n",
       "      <th>2000-08-08</th>\n",
       "      <td>22.6</td>\n",
       "    </tr>\n",
       "    <tr>\n",
       "      <th>2000-09-15</th>\n",
       "      <td>22.2</td>\n",
       "    </tr>\n",
       "    <tr>\n",
       "      <th>2002-08-03</th>\n",
       "      <td>21.6</td>\n",
       "    </tr>\n",
       "    <tr>\n",
       "      <th>2009-06-27</th>\n",
       "      <td>21.4</td>\n",
       "    </tr>\n",
       "    <tr>\n",
       "      <th>2021-10-05</th>\n",
       "      <td>20.4</td>\n",
       "    </tr>\n",
       "    <tr>\n",
       "      <th>1994-08-10</th>\n",
       "      <td>19.2</td>\n",
       "    </tr>\n",
       "    <tr>\n",
       "      <th>1992-05-29</th>\n",
       "      <td>19.0</td>\n",
       "    </tr>\n",
       "    <tr>\n",
       "      <th>1993-06-11</th>\n",
       "      <td>18.8</td>\n",
       "    </tr>\n",
       "    <tr>\n",
       "      <th>2022-08-17</th>\n",
       "      <td>18.8</td>\n",
       "    </tr>\n",
       "    <tr>\n",
       "      <th>2023-08-02</th>\n",
       "      <td>18.8</td>\n",
       "    </tr>\n",
       "    <tr>\n",
       "      <th>2015-07-03</th>\n",
       "      <td>17.0</td>\n",
       "    </tr>\n",
       "    <tr>\n",
       "      <th>2015-07-04</th>\n",
       "      <td>17.0</td>\n",
       "    </tr>\n",
       "    <tr>\n",
       "      <th>2002-07-31</th>\n",
       "      <td>16.4</td>\n",
       "    </tr>\n",
       "  </tbody>\n",
       "</table>\n",
       "</div>"
      ],
      "text/plain": [
       "            Rainfall\n",
       "Date                \n",
       "2021-07-25      50.8\n",
       "2016-06-23      34.4\n",
       "2005-09-10      28.6\n",
       "1998-05-26      26.4\n",
       "2022-12-18      26.4\n",
       "2002-09-09      23.6\n",
       "2017-06-02      23.6\n",
       "2000-08-08      22.6\n",
       "2000-09-15      22.2\n",
       "2002-08-03      21.6\n",
       "2009-06-27      21.4\n",
       "2021-10-05      20.4\n",
       "1994-08-10      19.2\n",
       "1992-05-29      19.0\n",
       "1993-06-11      18.8\n",
       "2022-08-17      18.8\n",
       "2023-08-02      18.8\n",
       "2015-07-03      17.0\n",
       "2015-07-04      17.0\n",
       "2002-07-31      16.4"
      ]
     },
     "execution_count": 26,
     "metadata": {},
     "output_type": "execute_result"
    }
   ],
   "source": [
    "(\n",
    "    df_rolling\n",
    "    .reset_index()\n",
    "    .assign(Date=lambda x: x['Timestamp'].dt.date)\n",
    "    .set_index(keys=['Date', 'Timestamp'])\n",
    "    .groupby(by=['Date'])\n",
    "    .agg({'Rainfall': 'max'})\n",
    "    .sort_values(by='Rainfall', ascending=False)\n",
    "    .head(20)\n",
    ")"
   ]
  },
  {
   "cell_type": "code",
   "execution_count": null,
   "id": "011548a9",
   "metadata": {},
   "outputs": [],
   "source": []
  }
 ],
 "metadata": {
  "kernelspec": {
   "display_name": "Python 3 (ipykernel)",
   "language": "python",
   "name": "python3"
  },
  "language_info": {
   "codemirror_mode": {
    "name": "ipython",
    "version": 3
   },
   "file_extension": ".py",
   "mimetype": "text/x-python",
   "name": "python",
   "nbconvert_exporter": "python",
   "pygments_lexer": "ipython3",
   "version": "3.11.4"
  }
 },
 "nbformat": 4,
 "nbformat_minor": 5
}
